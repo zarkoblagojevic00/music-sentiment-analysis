{
 "cells": [
  {
   "cell_type": "code",
   "execution_count": 29,
   "id": "9efe1f60",
   "metadata": {},
   "outputs": [],
   "source": [
    "import tensorflow_hub as hub\n",
    "import tensorflow.compat.v1 as tf\n",
    "import numpy as np\n",
    "import pandas as pd"
   ]
  },
  {
   "cell_type": "code",
   "execution_count": 31,
   "id": "e8c0912c",
   "metadata": {},
   "outputs": [],
   "source": [
    "# Load ELMo model\n",
    "tf.disable_eager_execution()\n",
    "tf.reset_default_graph()\n",
    "elmo = hub.Module(\"https://tfhub.dev/google/elmo/3\", trainable=True)\n"
   ]
  },
  {
   "cell_type": "code",
   "execution_count": 33,
   "id": "8487a616",
   "metadata": {},
   "outputs": [],
   "source": [
    "df_music = pd.read_csv(\"processed data/music_bert.csv\")\n",
    "# df_music"
   ]
  },
  {
   "cell_type": "code",
   "execution_count": null,
   "id": "c59e7e86",
   "metadata": {},
   "outputs": [],
   "source": [
    "def embed_text(row):\n",
    "    input_text = row['lyrics']\n",
    "    embeddings = elmo([input_text], signature=\"default\",as_dict=True)[\"elmo\"]\n",
    "    \n",
    "    init = tf.initialize_all_variables()\n",
    "    sess = tf.Session()\n",
    "    sess.run(init)\n",
    "\n",
    "    sentence_embedding = sess.run(tf.reduce_mean(embeddings, axis=1))\n",
    "    \n",
    "    print(row['track'])\n",
    "    return sentence_embedding[0]\n"
   ]
  },
  {
   "cell_type": "code",
   "execution_count": null,
   "id": "6664e3f7",
   "metadata": {},
   "outputs": [],
   "source": [
    "df_music['embedded_lyrics'] = df_music.apply(embed_text, axis=1)\n",
    "df_music.to_csv(\"processed data/music_elmo.csv\")\n",
    "df_music"
   ]
  },
  {
   "cell_type": "code",
   "execution_count": null,
   "id": "37ddb4a2",
   "metadata": {},
   "outputs": [],
   "source": []
  }
 ],
 "metadata": {
  "kernelspec": {
   "display_name": "Python 3 (ipykernel)",
   "language": "python",
   "name": "python3"
  },
  "language_info": {
   "codemirror_mode": {
    "name": "ipython",
    "version": 3
   },
   "file_extension": ".py",
   "mimetype": "text/x-python",
   "name": "python",
   "nbconvert_exporter": "python",
   "pygments_lexer": "ipython3",
   "version": "3.9.13"
  }
 },
 "nbformat": 4,
 "nbformat_minor": 5
}
