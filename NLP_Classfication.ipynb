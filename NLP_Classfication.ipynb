{
 "cells": [
  {
   "cell_type": "markdown",
   "id": "df06f23a",
   "metadata": {
    "id": "df06f23a"
   },
   "source": [
    "# LSTM/GRU classification"
   ]
  },
  {
   "cell_type": "code",
   "execution_count": 1,
   "id": "c28a02aa",
   "metadata": {
    "id": "c28a02aa"
   },
   "outputs": [],
   "source": [
    "import pandas as pd\n",
    "import numpy as np\n",
    "import matplotlib.pyplot as plt\n",
    "\n",
    "import re\n",
    "import itertools\n",
    "from nltk.corpus import stopwords\n",
    "from collections import Counter\n",
    "\n",
    "from sklearn.preprocessing import LabelEncoder, MinMaxScaler, StandardScaler\n",
    "from sklearn.model_selection import train_test_split\n",
    "from sklearn.metrics import classification_report\n",
    "\n",
    "from imblearn.over_sampling import RandomOverSampler\n",
    "from imblearn.under_sampling import RandomUnderSampler\n",
    "\n",
    "\n",
    "import tensorflow as tf\n",
    "from tensorflow.keras.regularizers import l2\n",
    "from tensorflow.keras.layers.experimental.preprocessing import TextVectorization\n",
    "from tensorflow.data import Dataset\n",
    "from tensorflow.keras import Model\n",
    "from tensorflow.keras.layers import Dense, BatchNormalization, Dropout, concatenate, LSTM, GRU, Input, Embedding, Bidirectional\n",
    "from tensorflow.keras.utils import to_categorical\n",
    "from tensorflow.keras.callbacks import EarlyStopping\n",
    "from tensorflow.keras.metrics import Precision, Recall\n"
   ]
  },
  {
   "cell_type": "code",
   "execution_count": 38,
   "id": "5c79d756",
   "metadata": {
    "colab": {
     "base_uri": "https://localhost:8080/",
     "height": 525
    },
    "id": "5c79d756",
    "outputId": "cb4e9467-0401-4783-af2a-5d1ed93ee6ab",
    "scrolled": true
   },
   "outputs": [
    {
     "name": "stdout",
     "output_type": "stream",
     "text": [
      "(4955, 56)\n"
     ]
    },
    {
     "data": {
      "text/html": [
       "<div>\n",
       "<style scoped>\n",
       "    .dataframe tbody tr th:only-of-type {\n",
       "        vertical-align: middle;\n",
       "    }\n",
       "\n",
       "    .dataframe tbody tr th {\n",
       "        vertical-align: top;\n",
       "    }\n",
       "\n",
       "    .dataframe thead th {\n",
       "        text-align: right;\n",
       "    }\n",
       "</style>\n",
       "<table border=\"1\" class=\"dataframe\">\n",
       "  <thead>\n",
       "    <tr style=\"text-align: right;\">\n",
       "      <th></th>\n",
       "      <th>track</th>\n",
       "      <th>artist</th>\n",
       "      <th>number_of_emotion_tags</th>\n",
       "      <th>valence_tags</th>\n",
       "      <th>arousal_tags</th>\n",
       "      <th>dominance_tags</th>\n",
       "      <th>spotify_id</th>\n",
       "      <th>seeds_array</th>\n",
       "      <th>artist_name</th>\n",
       "      <th>track_name</th>\n",
       "      <th>...</th>\n",
       "      <th>Dance</th>\n",
       "      <th>Country</th>\n",
       "      <th>Opera</th>\n",
       "      <th>Movie</th>\n",
       "      <th>Children's Music</th>\n",
       "      <th>A Capella</th>\n",
       "      <th>artist_track</th>\n",
       "      <th>genius_url</th>\n",
       "      <th>new_lyrics</th>\n",
       "      <th>sentiment</th>\n",
       "    </tr>\n",
       "  </thead>\n",
       "  <tbody>\n",
       "    <tr>\n",
       "      <th>0</th>\n",
       "      <td>'Till I Collapse</td>\n",
       "      <td>Eminem</td>\n",
       "      <td>6</td>\n",
       "      <td>4.550000</td>\n",
       "      <td>5.273125</td>\n",
       "      <td>5.690625</td>\n",
       "      <td>4xkOaSrkexMciUUogZKVTS</td>\n",
       "      <td>['aggressive']</td>\n",
       "      <td>Eminem</td>\n",
       "      <td>'Till I Collapse</td>\n",
       "      <td>...</td>\n",
       "      <td>0</td>\n",
       "      <td>0</td>\n",
       "      <td>0</td>\n",
       "      <td>0</td>\n",
       "      <td>0</td>\n",
       "      <td>0</td>\n",
       "      <td>Eminem 'Till I Collapse</td>\n",
       "      <td>https://genius.com/Eminem-till-i-collapse-lyrics</td>\n",
       "      <td>[Intro: Eminem]\\r\\n'Cause sometimes you just f...</td>\n",
       "      <td>intense_aggressive</td>\n",
       "    </tr>\n",
       "    <tr>\n",
       "      <th>1</th>\n",
       "      <td>St. Anger</td>\n",
       "      <td>Metallica</td>\n",
       "      <td>8</td>\n",
       "      <td>3.710000</td>\n",
       "      <td>5.833000</td>\n",
       "      <td>5.427250</td>\n",
       "      <td>3fOc9x06lKJBhz435mInlH</td>\n",
       "      <td>['aggressive']</td>\n",
       "      <td>Metallica</td>\n",
       "      <td>St. Anger</td>\n",
       "      <td>...</td>\n",
       "      <td>0</td>\n",
       "      <td>0</td>\n",
       "      <td>0</td>\n",
       "      <td>0</td>\n",
       "      <td>0</td>\n",
       "      <td>0</td>\n",
       "      <td>Metallica St. Anger</td>\n",
       "      <td>https://genius.com/Metallica-st-anger-lyrics</td>\n",
       "      <td>[Verse]\\r\\nSaint Anger 'round my neck\\r\\nSaint...</td>\n",
       "      <td>intense_aggressive</td>\n",
       "    </tr>\n",
       "    <tr>\n",
       "      <th>2</th>\n",
       "      <td>Die MF Die</td>\n",
       "      <td>Dope</td>\n",
       "      <td>7</td>\n",
       "      <td>3.771176</td>\n",
       "      <td>5.348235</td>\n",
       "      <td>5.441765</td>\n",
       "      <td>5bU4KX47KqtDKKaLM4QCzh</td>\n",
       "      <td>['aggressive']</td>\n",
       "      <td>Dope</td>\n",
       "      <td>Die MF Die</td>\n",
       "      <td>...</td>\n",
       "      <td>0</td>\n",
       "      <td>0</td>\n",
       "      <td>0</td>\n",
       "      <td>0</td>\n",
       "      <td>0</td>\n",
       "      <td>0</td>\n",
       "      <td>Dope Die MF Die</td>\n",
       "      <td>https://genius.com/Dope-die-mf-die-lyrics</td>\n",
       "      <td>[Intro]\\r\\nDie!\\r\\n[Verse 1]\\r\\nI don't need y...</td>\n",
       "      <td>intense_aggressive</td>\n",
       "    </tr>\n",
       "    <tr>\n",
       "      <th>3</th>\n",
       "      <td>Step Up</td>\n",
       "      <td>Drowning Pool</td>\n",
       "      <td>9</td>\n",
       "      <td>2.971389</td>\n",
       "      <td>5.537500</td>\n",
       "      <td>4.726389</td>\n",
       "      <td>4Q1w4Ryyi8KNxxaFlOQClK</td>\n",
       "      <td>['aggressive']</td>\n",
       "      <td>Drowning Pool</td>\n",
       "      <td>Step Up</td>\n",
       "      <td>...</td>\n",
       "      <td>0</td>\n",
       "      <td>0</td>\n",
       "      <td>0</td>\n",
       "      <td>0</td>\n",
       "      <td>0</td>\n",
       "      <td>0</td>\n",
       "      <td>Drowning Pool Step Up</td>\n",
       "      <td>https://genius.com/Drowning-pool-step-up-lyrics</td>\n",
       "      <td>[Intro]\\r\\nOne, two, three, go!\\r\\n[Verse 1]\\r...</td>\n",
       "      <td>intense_aggressive</td>\n",
       "    </tr>\n",
       "    <tr>\n",
       "      <th>4</th>\n",
       "      <td>Feedback</td>\n",
       "      <td>Kanye West</td>\n",
       "      <td>1</td>\n",
       "      <td>3.080000</td>\n",
       "      <td>5.870000</td>\n",
       "      <td>5.490000</td>\n",
       "      <td>49fT6owWuknekShh9utsjv</td>\n",
       "      <td>['aggressive']</td>\n",
       "      <td>Kanye West</td>\n",
       "      <td>Feedback</td>\n",
       "      <td>...</td>\n",
       "      <td>0</td>\n",
       "      <td>0</td>\n",
       "      <td>0</td>\n",
       "      <td>0</td>\n",
       "      <td>0</td>\n",
       "      <td>0</td>\n",
       "      <td>Kanye West Feedback</td>\n",
       "      <td>https://genius.com/Kanye-west-feedback-lyrics</td>\n",
       "      <td>[Chorus]\\r\\nAyy, ya heard about the good news?...</td>\n",
       "      <td>intense_aggressive</td>\n",
       "    </tr>\n",
       "  </tbody>\n",
       "</table>\n",
       "<p>5 rows × 56 columns</p>\n",
       "</div>"
      ],
      "text/plain": [
       "              track         artist  number_of_emotion_tags  valence_tags  \\\n",
       "0  'Till I Collapse         Eminem                       6      4.550000   \n",
       "1         St. Anger      Metallica                       8      3.710000   \n",
       "2        Die MF Die           Dope                       7      3.771176   \n",
       "3           Step Up  Drowning Pool                       9      2.971389   \n",
       "4          Feedback     Kanye West                       1      3.080000   \n",
       "\n",
       "   arousal_tags  dominance_tags              spotify_id     seeds_array  \\\n",
       "0      5.273125        5.690625  4xkOaSrkexMciUUogZKVTS  ['aggressive']   \n",
       "1      5.833000        5.427250  3fOc9x06lKJBhz435mInlH  ['aggressive']   \n",
       "2      5.348235        5.441765  5bU4KX47KqtDKKaLM4QCzh  ['aggressive']   \n",
       "3      5.537500        4.726389  4Q1w4Ryyi8KNxxaFlOQClK  ['aggressive']   \n",
       "4      5.870000        5.490000  49fT6owWuknekShh9utsjv  ['aggressive']   \n",
       "\n",
       "     artist_name        track_name  ...  Dance  Country  Opera  Movie  \\\n",
       "0         Eminem  'Till I Collapse  ...      0        0      0      0   \n",
       "1      Metallica         St. Anger  ...      0        0      0      0   \n",
       "2           Dope        Die MF Die  ...      0        0      0      0   \n",
       "3  Drowning Pool           Step Up  ...      0        0      0      0   \n",
       "4     Kanye West          Feedback  ...      0        0      0      0   \n",
       "\n",
       "   Children's Music  A Capella             artist_track  \\\n",
       "0                 0          0  Eminem 'Till I Collapse   \n",
       "1                 0          0      Metallica St. Anger   \n",
       "2                 0          0          Dope Die MF Die   \n",
       "3                 0          0    Drowning Pool Step Up   \n",
       "4                 0          0      Kanye West Feedback   \n",
       "\n",
       "                                         genius_url  \\\n",
       "0  https://genius.com/Eminem-till-i-collapse-lyrics   \n",
       "1      https://genius.com/Metallica-st-anger-lyrics   \n",
       "2         https://genius.com/Dope-die-mf-die-lyrics   \n",
       "3   https://genius.com/Drowning-pool-step-up-lyrics   \n",
       "4     https://genius.com/Kanye-west-feedback-lyrics   \n",
       "\n",
       "                                          new_lyrics           sentiment  \n",
       "0  [Intro: Eminem]\\r\\n'Cause sometimes you just f...  intense_aggressive  \n",
       "1  [Verse]\\r\\nSaint Anger 'round my neck\\r\\nSaint...  intense_aggressive  \n",
       "2  [Intro]\\r\\nDie!\\r\\n[Verse 1]\\r\\nI don't need y...  intense_aggressive  \n",
       "3  [Intro]\\r\\nOne, two, three, go!\\r\\n[Verse 1]\\r...  intense_aggressive  \n",
       "4  [Chorus]\\r\\nAyy, ya heard about the good news?...  intense_aggressive  \n",
       "\n",
       "[5 rows x 56 columns]"
      ]
     },
     "execution_count": 38,
     "metadata": {},
     "output_type": "execute_result"
    }
   ],
   "source": [
    "df = pd.read_csv('data/music_dataset_final_hopefully.csv', index_col=0).drop(columns=['lyrics'])\n",
    "print(df.shape)\n",
    "df.head()"
   ]
  },
  {
   "cell_type": "code",
   "execution_count": 3,
   "id": "E0gwdSzT5cun",
   "metadata": {
    "colab": {
     "base_uri": "https://localhost:8080/"
    },
    "id": "E0gwdSzT5cun",
    "outputId": "ed85a95b-741e-464b-d588-8ed15e79a88c"
   },
   "outputs": [
    {
     "data": {
      "text/plain": [
       "Index(['track', 'artist', 'number_of_emotion_tags', 'valence_tags',\n",
       "       'arousal_tags', 'dominance_tags', 'spotify_id', 'seeds_array',\n",
       "       'artist_name', 'track_name', 'popularity', 'acousticness',\n",
       "       'danceability', 'duration_ms', 'energy', 'instrumentalness', 'key',\n",
       "       'liveness', 'loudness', 'mode', 'speechiness', 'tempo',\n",
       "       'time_signature', 'valence', 'genres', 'Comedy', 'Soundtrack', 'Indie',\n",
       "       'Jazz', 'Pop', 'Electronic', 'Children’s Music', 'Folk', 'Hip-Hop',\n",
       "       'Rock', 'Alternative', 'Classical', 'Rap', 'World', 'Soul', 'Blues',\n",
       "       'R&B', 'Anime', 'Reggaeton', 'Ska', 'Reggae', 'Dance', 'Country',\n",
       "       'Opera', 'Movie', 'Children's Music', 'A Capella', 'artist_track',\n",
       "       'genius_url', 'new_lyrics', 'sentiment'],\n",
       "      dtype='object')"
      ]
     },
     "execution_count": 3,
     "metadata": {},
     "output_type": "execute_result"
    }
   ],
   "source": [
    "df.columns"
   ]
  },
  {
   "cell_type": "code",
   "execution_count": 39,
   "id": "MUBOTHfH6kNw",
   "metadata": {
    "colab": {
     "base_uri": "https://localhost:8080/",
     "height": 508
    },
    "id": "MUBOTHfH6kNw",
    "outputId": "f00905ff-6d8e-43ab-a678-badbbe92184e"
   },
   "outputs": [
    {
     "data": {
      "text/html": [
       "<div>\n",
       "<style scoped>\n",
       "    .dataframe tbody tr th:only-of-type {\n",
       "        vertical-align: middle;\n",
       "    }\n",
       "\n",
       "    .dataframe tbody tr th {\n",
       "        vertical-align: top;\n",
       "    }\n",
       "\n",
       "    .dataframe thead th {\n",
       "        text-align: right;\n",
       "    }\n",
       "</style>\n",
       "<table border=\"1\" class=\"dataframe\">\n",
       "  <thead>\n",
       "    <tr style=\"text-align: right;\">\n",
       "      <th></th>\n",
       "      <th>track</th>\n",
       "      <th>artist</th>\n",
       "      <th>number_of_emotion_tags</th>\n",
       "      <th>valence_tags</th>\n",
       "      <th>arousal_tags</th>\n",
       "      <th>dominance_tags</th>\n",
       "      <th>spotify_id</th>\n",
       "      <th>seeds_array</th>\n",
       "      <th>artist_name</th>\n",
       "      <th>track_name</th>\n",
       "      <th>...</th>\n",
       "      <th>Dance</th>\n",
       "      <th>Country</th>\n",
       "      <th>Opera</th>\n",
       "      <th>Movie</th>\n",
       "      <th>Children's Music</th>\n",
       "      <th>A Capella</th>\n",
       "      <th>artist_track</th>\n",
       "      <th>genius_url</th>\n",
       "      <th>lyrics</th>\n",
       "      <th>sentiment</th>\n",
       "    </tr>\n",
       "  </thead>\n",
       "  <tbody>\n",
       "    <tr>\n",
       "      <th>0</th>\n",
       "      <td>'Till I Collapse</td>\n",
       "      <td>Eminem</td>\n",
       "      <td>6</td>\n",
       "      <td>4.550000</td>\n",
       "      <td>5.273125</td>\n",
       "      <td>5.690625</td>\n",
       "      <td>4xkOaSrkexMciUUogZKVTS</td>\n",
       "      <td>['aggressive']</td>\n",
       "      <td>Eminem</td>\n",
       "      <td>'Till I Collapse</td>\n",
       "      <td>...</td>\n",
       "      <td>0</td>\n",
       "      <td>0</td>\n",
       "      <td>0</td>\n",
       "      <td>0</td>\n",
       "      <td>0</td>\n",
       "      <td>0</td>\n",
       "      <td>Eminem 'Till I Collapse</td>\n",
       "      <td>https://genius.com/Eminem-till-i-collapse-lyrics</td>\n",
       "      <td>[Intro: Eminem]\\r\\n'Cause sometimes you just f...</td>\n",
       "      <td>intense_aggressive</td>\n",
       "    </tr>\n",
       "    <tr>\n",
       "      <th>1</th>\n",
       "      <td>St. Anger</td>\n",
       "      <td>Metallica</td>\n",
       "      <td>8</td>\n",
       "      <td>3.710000</td>\n",
       "      <td>5.833000</td>\n",
       "      <td>5.427250</td>\n",
       "      <td>3fOc9x06lKJBhz435mInlH</td>\n",
       "      <td>['aggressive']</td>\n",
       "      <td>Metallica</td>\n",
       "      <td>St. Anger</td>\n",
       "      <td>...</td>\n",
       "      <td>0</td>\n",
       "      <td>0</td>\n",
       "      <td>0</td>\n",
       "      <td>0</td>\n",
       "      <td>0</td>\n",
       "      <td>0</td>\n",
       "      <td>Metallica St. Anger</td>\n",
       "      <td>https://genius.com/Metallica-st-anger-lyrics</td>\n",
       "      <td>[Verse]\\r\\nSaint Anger 'round my neck\\r\\nSaint...</td>\n",
       "      <td>intense_aggressive</td>\n",
       "    </tr>\n",
       "    <tr>\n",
       "      <th>2</th>\n",
       "      <td>Die MF Die</td>\n",
       "      <td>Dope</td>\n",
       "      <td>7</td>\n",
       "      <td>3.771176</td>\n",
       "      <td>5.348235</td>\n",
       "      <td>5.441765</td>\n",
       "      <td>5bU4KX47KqtDKKaLM4QCzh</td>\n",
       "      <td>['aggressive']</td>\n",
       "      <td>Dope</td>\n",
       "      <td>Die MF Die</td>\n",
       "      <td>...</td>\n",
       "      <td>0</td>\n",
       "      <td>0</td>\n",
       "      <td>0</td>\n",
       "      <td>0</td>\n",
       "      <td>0</td>\n",
       "      <td>0</td>\n",
       "      <td>Dope Die MF Die</td>\n",
       "      <td>https://genius.com/Dope-die-mf-die-lyrics</td>\n",
       "      <td>[Intro]\\r\\nDie!\\r\\n[Verse 1]\\r\\nI don't need y...</td>\n",
       "      <td>intense_aggressive</td>\n",
       "    </tr>\n",
       "    <tr>\n",
       "      <th>3</th>\n",
       "      <td>Step Up</td>\n",
       "      <td>Drowning Pool</td>\n",
       "      <td>9</td>\n",
       "      <td>2.971389</td>\n",
       "      <td>5.537500</td>\n",
       "      <td>4.726389</td>\n",
       "      <td>4Q1w4Ryyi8KNxxaFlOQClK</td>\n",
       "      <td>['aggressive']</td>\n",
       "      <td>Drowning Pool</td>\n",
       "      <td>Step Up</td>\n",
       "      <td>...</td>\n",
       "      <td>0</td>\n",
       "      <td>0</td>\n",
       "      <td>0</td>\n",
       "      <td>0</td>\n",
       "      <td>0</td>\n",
       "      <td>0</td>\n",
       "      <td>Drowning Pool Step Up</td>\n",
       "      <td>https://genius.com/Drowning-pool-step-up-lyrics</td>\n",
       "      <td>[Intro]\\r\\nOne, two, three, go!\\r\\n[Verse 1]\\r...</td>\n",
       "      <td>intense_aggressive</td>\n",
       "    </tr>\n",
       "    <tr>\n",
       "      <th>4</th>\n",
       "      <td>Feedback</td>\n",
       "      <td>Kanye West</td>\n",
       "      <td>1</td>\n",
       "      <td>3.080000</td>\n",
       "      <td>5.870000</td>\n",
       "      <td>5.490000</td>\n",
       "      <td>49fT6owWuknekShh9utsjv</td>\n",
       "      <td>['aggressive']</td>\n",
       "      <td>Kanye West</td>\n",
       "      <td>Feedback</td>\n",
       "      <td>...</td>\n",
       "      <td>0</td>\n",
       "      <td>0</td>\n",
       "      <td>0</td>\n",
       "      <td>0</td>\n",
       "      <td>0</td>\n",
       "      <td>0</td>\n",
       "      <td>Kanye West Feedback</td>\n",
       "      <td>https://genius.com/Kanye-west-feedback-lyrics</td>\n",
       "      <td>[Chorus]\\r\\nAyy, ya heard about the good news?...</td>\n",
       "      <td>intense_aggressive</td>\n",
       "    </tr>\n",
       "  </tbody>\n",
       "</table>\n",
       "<p>5 rows × 56 columns</p>\n",
       "</div>"
      ],
      "text/plain": [
       "              track         artist  number_of_emotion_tags  valence_tags  \\\n",
       "0  'Till I Collapse         Eminem                       6      4.550000   \n",
       "1         St. Anger      Metallica                       8      3.710000   \n",
       "2        Die MF Die           Dope                       7      3.771176   \n",
       "3           Step Up  Drowning Pool                       9      2.971389   \n",
       "4          Feedback     Kanye West                       1      3.080000   \n",
       "\n",
       "   arousal_tags  dominance_tags              spotify_id     seeds_array  \\\n",
       "0      5.273125        5.690625  4xkOaSrkexMciUUogZKVTS  ['aggressive']   \n",
       "1      5.833000        5.427250  3fOc9x06lKJBhz435mInlH  ['aggressive']   \n",
       "2      5.348235        5.441765  5bU4KX47KqtDKKaLM4QCzh  ['aggressive']   \n",
       "3      5.537500        4.726389  4Q1w4Ryyi8KNxxaFlOQClK  ['aggressive']   \n",
       "4      5.870000        5.490000  49fT6owWuknekShh9utsjv  ['aggressive']   \n",
       "\n",
       "     artist_name        track_name  ...  Dance  Country  Opera  Movie  \\\n",
       "0         Eminem  'Till I Collapse  ...      0        0      0      0   \n",
       "1      Metallica         St. Anger  ...      0        0      0      0   \n",
       "2           Dope        Die MF Die  ...      0        0      0      0   \n",
       "3  Drowning Pool           Step Up  ...      0        0      0      0   \n",
       "4     Kanye West          Feedback  ...      0        0      0      0   \n",
       "\n",
       "   Children's Music  A Capella             artist_track  \\\n",
       "0                 0          0  Eminem 'Till I Collapse   \n",
       "1                 0          0      Metallica St. Anger   \n",
       "2                 0          0          Dope Die MF Die   \n",
       "3                 0          0    Drowning Pool Step Up   \n",
       "4                 0          0      Kanye West Feedback   \n",
       "\n",
       "                                         genius_url  \\\n",
       "0  https://genius.com/Eminem-till-i-collapse-lyrics   \n",
       "1      https://genius.com/Metallica-st-anger-lyrics   \n",
       "2         https://genius.com/Dope-die-mf-die-lyrics   \n",
       "3   https://genius.com/Drowning-pool-step-up-lyrics   \n",
       "4     https://genius.com/Kanye-west-feedback-lyrics   \n",
       "\n",
       "                                              lyrics           sentiment  \n",
       "0  [Intro: Eminem]\\r\\n'Cause sometimes you just f...  intense_aggressive  \n",
       "1  [Verse]\\r\\nSaint Anger 'round my neck\\r\\nSaint...  intense_aggressive  \n",
       "2  [Intro]\\r\\nDie!\\r\\n[Verse 1]\\r\\nI don't need y...  intense_aggressive  \n",
       "3  [Intro]\\r\\nOne, two, three, go!\\r\\n[Verse 1]\\r...  intense_aggressive  \n",
       "4  [Chorus]\\r\\nAyy, ya heard about the good news?...  intense_aggressive  \n",
       "\n",
       "[5 rows x 56 columns]"
      ]
     },
     "execution_count": 39,
     "metadata": {},
     "output_type": "execute_result"
    }
   ],
   "source": [
    "df = df.rename(columns={'new_lyrics': 'lyrics'})\n",
    "df.head()"
   ]
  },
  {
   "cell_type": "markdown",
   "id": "f44706da",
   "metadata": {
    "id": "f44706da"
   },
   "source": [
    "## Dataset prep"
   ]
  },
  {
   "cell_type": "code",
   "execution_count": 7,
   "id": "18dba3f8",
   "metadata": {
    "colab": {
     "base_uri": "https://localhost:8080/"
    },
    "id": "18dba3f8",
    "outputId": "7558fb82-3ded-43a7-d041-f2f32bf0124a"
   },
   "outputs": [
    {
     "name": "stderr",
     "output_type": "stream",
     "text": [
      "[nltk_data] Downloading package stopwords to /root/nltk_data...\n",
      "[nltk_data]   Unzipping corpora/stopwords.zip.\n"
     ]
    }
   ],
   "source": [
    "import nltk\n",
    "nltk.download('stopwords')\n",
    "stops = set(stopwords.words('english'))\n",
    "\n",
    "def transform_lyrics(row):\n",
    "    base_lyrics = row['lyrics']\n",
    "    artist_name = row['artist']\n",
    "    track_title = row['track']\n",
    "    \n",
    "    lyrics = base_lyrics.replace(\"\\r\", \" \")\n",
    "    \n",
    "    lyrics = re.sub(r\"\\[([^\\]]+)\\]\", \"\", lyrics)\n",
    "    \n",
    "    lines = lyrics.split('\\n')\n",
    "    lines = list(dict.fromkeys(lines)) # cannot use set for unique verses cause it doesn't keep order\n",
    "\n",
    "    lines = [line for line in lines if line is not None and line != '' and line != ' ']\n",
    "    lyrics = ' '.join(lines)\n",
    "    \n",
    "    lyrics = track_title + \"  \" + artist_name + \" \" + lyrics \n",
    "    lyrics = lyrics.lower()\n",
    "\n",
    "    # Clean the lyrics\n",
    "    lyrics = re.sub(r\"[^A-Za-z0-9^,!.\\/'+-=]\", \" \", lyrics)\n",
    "    lyrics = re.sub(r\"what's\", \"what is \", lyrics)\n",
    "    lyrics = re.sub(r\"\\'s\", \" \", lyrics)\n",
    "    lyrics = re.sub(r\"\\'ve\", \" have \", lyrics)\n",
    "    lyrics = re.sub(r\"can't\", \"cannot \", lyrics)\n",
    "    lyrics = re.sub(r\"n't\", \" not \", lyrics)\n",
    "    lyrics = re.sub(r\"ain't\", \"am not \", lyrics)\n",
    "    lyrics = re.sub(r\"i'm\", \"i am \", lyrics)\n",
    "    lyrics = re.sub(r\"\\'re\", \" are \", lyrics)\n",
    "    lyrics = re.sub(r\"\\'d\", \" would \", lyrics)\n",
    "    lyrics = re.sub(r\"\\'ll\", \" will \", lyrics)\n",
    "    lyrics = re.sub(r\",\", \" \", lyrics)\n",
    "    lyrics = re.sub(r\"\\.\", \" \", lyrics)\n",
    "    lyrics = re.sub(r\"!\", \" ! \", lyrics)\n",
    "    lyrics = re.sub(r\"\\/\", \" \", lyrics)\n",
    "    lyrics = re.sub(r\"\\^\", \" ^ \", lyrics)\n",
    "    lyrics = re.sub(r\"\\+\", \" + \", lyrics)\n",
    "    lyrics = re.sub(r\"\\-\", \" - \", lyrics)\n",
    "    lyrics = re.sub(r\"\\=\", \" = \", lyrics)\n",
    "    lyrics = re.sub(r\"'\", \" \", lyrics)\n",
    "    lyrics = re.sub(r\"(\\d+)(k)\", r\"\\g<1>000\", lyrics)\n",
    "    lyrics = re.sub(r\":\", \" : \", lyrics)\n",
    "    lyrics = re.sub(r\" e g \", \" eg \", lyrics)\n",
    "    lyrics = re.sub(r\" b g \", \" bg \", lyrics)\n",
    "    lyrics = re.sub(r\" u s \", \" american \", lyrics)\n",
    "    lyrics = re.sub(r\"\\0s\", \"0\", lyrics)\n",
    "    lyrics = re.sub(r\" 9 11 \", \"911\", lyrics)\n",
    "    lyrics = re.sub(r\"e - mail\", \"email\", lyrics)\n",
    "    lyrics = re.sub(r\"j k\", \"jk\", lyrics)\n",
    "    lyrics = re.sub(r\"'s\", \"\", lyrics)\n",
    "    lyrics = re.sub(r\"[\\(\\)]\", \"\", lyrics)\n",
    "    lyrics = re.sub(r\"\\s{2,}\", \" \", lyrics)\n",
    "    \n",
    "    lyrics = ' '.join([word for word in lyrics.split() if word not in stops])\n",
    "      \n",
    "    return lyrics"
   ]
  },
  {
   "cell_type": "code",
   "execution_count": 8,
   "id": "8729a111",
   "metadata": {
    "id": "8729a111"
   },
   "outputs": [],
   "source": [
    "df['lyrics'] = df.apply(transform_lyrics, axis=1)"
   ]
  },
  {
   "cell_type": "code",
   "execution_count": 9,
   "id": "Ic5Nm-aj_Orn",
   "metadata": {
    "colab": {
     "base_uri": "https://localhost:8080/",
     "height": 122
    },
    "id": "Ic5Nm-aj_Orn",
    "outputId": "ced7339e-065b-43f9-93ae-4f227cd8cc44"
   },
   "outputs": [
    {
     "data": {
      "application/vnd.google.colaboratory.intrinsic+json": {
       "type": "string"
      },
      "text/plain": [
       "'till collapse eminem cause sometimes feel tired yo left yo left feel weak feel weak yo left right left feel like wanna give yo left yo left gotta search within try find inner strength pull shit get motivation give quitter matter bad wanna fall flat face collapse til collapse spillin raps long feel em til day drop never say killin em cause stop pennin em hip - hop eminem subliminal thoughts stop sendin em women caught webs spin em hock venom adrenaline shots penicillin could get illin stop amoxicillin real enough criminal cop - killin hip - hop villain minimal swap cop millions pac listeners comin feel gonna fear like showed ya spirit god lives us hear lot lyrics shock miracle product pop fizzin fa shizzle wizzle plot listen bizzles forgot slizzle give fuck til roof comes til lights go til legs give cannot shut mouth til smoke clears high perhaps rip shit til bones collapse roof roof roof comes roof comes legs legs give underneath music like magic certain feelin get real spit people feelin shit moment every single minute spend tryna hold cause may never get try get much shit run admit end cause end wits half shit gets got list order list goes : reggie jay - z 2pac biggie andr outkast jada kurupt nas industry cause lot envy put list shit offend see walk around like nothing botherin even though half people got fuckin problem hate know respect got give press wet dream like bobby whitney nate hit ! soon verse starts eat mc heart thinking go smart absurd people hang every word prob ly never get props feel ever deserve never served spot forever reserved ever leave earth would death first cause heart hearts know nothin could ever worse clever put together every verse thoughts sporadic act like addict rap like addicted smack like kim mathers wanna go forth back constant battles fact would rather sit back bomb rappers like full - blown attack launchin em track battlin raps wants static cause really think fact slim matters plaque platinum status wack baddest roof roof comes legs give underneath fall stand tall feels like one beat'"
      ]
     },
     "execution_count": 9,
     "metadata": {},
     "output_type": "execute_result"
    }
   ],
   "source": [
    "df['lyrics'][0]"
   ]
  },
  {
   "cell_type": "code",
   "execution_count": 10,
   "id": "c237f3f9",
   "metadata": {
    "colab": {
     "base_uri": "https://localhost:8080/"
    },
    "id": "c237f3f9",
    "outputId": "b3c4a3a2-f7bd-48e7-fcbd-42c84a7ead5e",
    "scrolled": true
   },
   "outputs": [
    {
     "name": "stdout",
     "output_type": "stream",
     "text": [
      "Velicina vokabulara: 29921\n"
     ]
    }
   ],
   "source": [
    "unique_words = set()\n",
    "for text in df['lyrics']:\n",
    "    unique_words = unique_words.union(text.lower().split())\n",
    "\n",
    "print(f'Velicina vokabulara: {len(unique_words)}')"
   ]
  },
  {
   "cell_type": "code",
   "execution_count": 11,
   "id": "7c0b1f0c",
   "metadata": {
    "colab": {
     "base_uri": "https://localhost:8080/",
     "height": 447
    },
    "id": "7c0b1f0c",
    "outputId": "7a8bc4f7-d270-4a5c-b111-348c86e2f476",
    "scrolled": false
   },
   "outputs": [
    {
     "data": {
      "text/plain": [
       "<Axes: >"
      ]
     },
     "execution_count": 11,
     "metadata": {},
     "output_type": "execute_result"
    },
    {
     "data": {
      "image/png": "[encoded data removed]",
      "text/plain": [
       "<Figure size 640x480 with 1 Axes>"
      ]
     },
     "metadata": {},
     "output_type": "display_data"
    }
   ],
   "source": [
    "doc_len = df['lyrics'].apply(lambda x: len(x.split()))\n",
    "doc_len.hist()"
   ]
  },
  {
   "cell_type": "code",
   "execution_count": 12,
   "id": "639f85b8",
   "metadata": {
    "colab": {
     "base_uri": "https://localhost:8080/"
    },
    "id": "639f85b8",
    "outputId": "751ed78e-32f4-4393-f6a1-b8290d7e27e1",
    "scrolled": true
   },
   "outputs": [
    {
     "name": "stdout",
     "output_type": "stream",
     "text": [
      "Broj tekstova koji imaju vise od 300 reci: 171 (3.5%)\n",
      "Tekstovi duzi od 300 reci bice skraceni (truncate), a kraci dopunjeni (padded)\n"
     ]
    }
   ],
   "source": [
    "th = 300\n",
    "n_doc_len_gt_th = (doc_len > th).sum()\n",
    "print(f'Broj tekstova koji imaju vise od {th} reci: {n_doc_len_gt_th} ({n_doc_len_gt_th * 100/len(doc_len):.2}%)')\n",
    "print(f'Tekstovi duzi od {th} reci bice skraceni (truncate), a kraci dopunjeni (padded)')"
   ]
  },
  {
   "cell_type": "code",
   "execution_count": 13,
   "id": "1b3b92d1",
   "metadata": {
    "colab": {
     "base_uri": "https://localhost:8080/"
    },
    "id": "1b3b92d1",
    "outputId": "cb13e33b-d97f-452b-974e-bedd7fd96e2e",
    "scrolled": true
   },
   "outputs": [
    {
     "data": {
      "text/plain": [
       "Index(['track', 'artist', 'number_of_emotion_tags', 'valence_tags',\n",
       "       'arousal_tags', 'dominance_tags', 'spotify_id', 'seeds_array',\n",
       "       'artist_name', 'track_name', 'popularity', 'acousticness',\n",
       "       'danceability', 'duration_ms', 'energy', 'instrumentalness', 'key',\n",
       "       'liveness', 'loudness', 'mode', 'speechiness', 'tempo',\n",
       "       'time_signature', 'valence', 'genres', 'Comedy', 'Soundtrack', 'Indie',\n",
       "       'Jazz', 'Pop', 'Electronic', 'Children’s Music', 'Folk', 'Hip-Hop',\n",
       "       'Rock', 'Alternative', 'Classical', 'Rap', 'World', 'Soul', 'Blues',\n",
       "       'R&B', 'Anime', 'Reggaeton', 'Ska', 'Reggae', 'Dance', 'Country',\n",
       "       'Opera', 'Movie', 'Children's Music', 'A Capella', 'artist_track',\n",
       "       'genius_url', 'lyrics', 'sentiment'],\n",
       "      dtype='object')"
      ]
     },
     "execution_count": 13,
     "metadata": {},
     "output_type": "execute_result"
    }
   ],
   "source": [
    "df.columns"
   ]
  },
  {
   "cell_type": "code",
   "execution_count": 14,
   "id": "dDJFPtRZe_Er",
   "metadata": {
    "colab": {
     "base_uri": "https://localhost:8080/",
     "height": 300
    },
    "id": "dDJFPtRZe_Er",
    "outputId": "2fdd2ca0-889a-44a1-9f44-6140c55a12a2"
   },
   "outputs": [
    {
     "data": {
      "text/html": [
       "\n",
       "  <div id=\"df-a72232e9-7d84-4dc4-a684-b9452013a859\">\n",
       "    <div class=\"colab-df-container\">\n",
       "      <div>\n",
       "<style scoped>\n",
       "    .dataframe tbody tr th:only-of-type {\n",
       "        vertical-align: middle;\n",
       "    }\n",
       "\n",
       "    .dataframe tbody tr th {\n",
       "        vertical-align: top;\n",
       "    }\n",
       "\n",
       "    .dataframe thead th {\n",
       "        text-align: right;\n",
       "    }\n",
       "</style>\n",
       "<table border=\"1\" class=\"dataframe\">\n",
       "  <thead>\n",
       "    <tr style=\"text-align: right;\">\n",
       "      <th></th>\n",
       "      <th>tempo</th>\n",
       "      <th>number_of_emotion_tags</th>\n",
       "      <th>valence_tags</th>\n",
       "      <th>arousal_tags</th>\n",
       "      <th>dominance_tags</th>\n",
       "    </tr>\n",
       "  </thead>\n",
       "  <tbody>\n",
       "    <tr>\n",
       "      <th>count</th>\n",
       "      <td>4955.000000</td>\n",
       "      <td>4955.000000</td>\n",
       "      <td>4955.000000</td>\n",
       "      <td>4955.000000</td>\n",
       "      <td>4955.000000</td>\n",
       "    </tr>\n",
       "    <tr>\n",
       "      <th>mean</th>\n",
       "      <td>0.461059</td>\n",
       "      <td>0.205180</td>\n",
       "      <td>0.702058</td>\n",
       "      <td>0.598063</td>\n",
       "      <td>0.742637</td>\n",
       "    </tr>\n",
       "    <tr>\n",
       "      <th>std</th>\n",
       "      <td>0.160219</td>\n",
       "      <td>0.187390</td>\n",
       "      <td>0.170696</td>\n",
       "      <td>0.148279</td>\n",
       "      <td>0.135512</td>\n",
       "    </tr>\n",
       "    <tr>\n",
       "      <th>min</th>\n",
       "      <td>0.000000</td>\n",
       "      <td>0.000000</td>\n",
       "      <td>0.000000</td>\n",
       "      <td>0.000000</td>\n",
       "      <td>0.000000</td>\n",
       "    </tr>\n",
       "    <tr>\n",
       "      <th>25%</th>\n",
       "      <td>0.336838</td>\n",
       "      <td>0.033333</td>\n",
       "      <td>0.597761</td>\n",
       "      <td>0.499935</td>\n",
       "      <td>0.670659</td>\n",
       "    </tr>\n",
       "    <tr>\n",
       "      <th>50%</th>\n",
       "      <td>0.455838</td>\n",
       "      <td>0.133333</td>\n",
       "      <td>0.734942</td>\n",
       "      <td>0.592599</td>\n",
       "      <td>0.772431</td>\n",
       "    </tr>\n",
       "    <tr>\n",
       "      <th>75%</th>\n",
       "      <td>0.564919</td>\n",
       "      <td>0.333333</td>\n",
       "      <td>0.834908</td>\n",
       "      <td>0.701480</td>\n",
       "      <td>0.832460</td>\n",
       "    </tr>\n",
       "    <tr>\n",
       "      <th>max</th>\n",
       "      <td>1.000000</td>\n",
       "      <td>1.000000</td>\n",
       "      <td>1.000000</td>\n",
       "      <td>1.000000</td>\n",
       "      <td>1.000000</td>\n",
       "    </tr>\n",
       "  </tbody>\n",
       "</table>\n",
       "</div>\n",
       "      <button class=\"colab-df-convert\" onclick=\"convertToInteractive('df-a72232e9-7d84-4dc4-a684-b9452013a859')\"\n",
       "              title=\"Convert this dataframe to an interactive table.\"\n",
       "              style=\"display:none;\">\n",
       "        \n",
       "  <svg xmlns=\"http://www.w3.org/2000/svg\" height=\"24px\"viewBox=\"0 0 24 24\"\n",
       "       width=\"24px\">\n",
       "    <path d=\"M0 0h24v24H0V0z\" fill=\"none\"/>\n",
       "    <path d=\"M18.56 5.44l.94 2.06.94-2.06 2.06-.94-2.06-.94-.94-2.06-.94 2.06-2.06.94zm-11 1L8.5 8.5l.94-2.06 2.06-.94-2.06-.94L8.5 2.5l-.94 2.06-2.06.94zm10 10l.94 2.06.94-2.06 2.06-.94-2.06-.94-.94-2.06-.94 2.06-2.06.94z\"/><path d=\"M17.41 7.96l-1.37-1.37c-.4-.4-.92-.59-1.43-.59-.52 0-1.04.2-1.43.59L10.3 9.45l-7.72 7.72c-.78.78-.78 2.05 0 2.83L4 21.41c.39.39.9.59 1.41.59.51 0 1.02-.2 1.41-.59l7.78-7.78 2.81-2.81c.8-.78.8-2.07 0-2.86zM5.41 20L4 18.59l7.72-7.72 1.47 1.35L5.41 20z\"/>\n",
       "  </svg>\n",
       "      </button>\n",
       "      \n",
       "  <style>\n",
       "    .colab-df-container {\n",
       "      display:flex;\n",
       "      flex-wrap:wrap;\n",
       "      gap: 12px;\n",
       "    }\n",
       "\n",
       "    .colab-df-convert {\n",
       "      background-color: #E8F0FE;\n",
       "      border: none;\n",
       "      border-radius: 50%;\n",
       "      cursor: pointer;\n",
       "      display: none;\n",
       "      fill: #1967D2;\n",
       "      height: 32px;\n",
       "      padding: 0 0 0 0;\n",
       "      width: 32px;\n",
       "    }\n",
       "\n",
       "    .colab-df-convert:hover {\n",
       "      background-color: #E2EBFA;\n",
       "      box-shadow: 0px 1px 2px rgba(60, 64, 67, 0.3), 0px 1px 3px 1px rgba(60, 64, 67, 0.15);\n",
       "      fill: #174EA6;\n",
       "    }\n",
       "\n",
       "    [theme=dark] .colab-df-convert {\n",
       "      background-color: #3B4455;\n",
       "      fill: #D2E3FC;\n",
       "    }\n",
       "\n",
       "    [theme=dark] .colab-df-convert:hover {\n",
       "      background-color: #434B5C;\n",
       "      box-shadow: 0px 1px 3px 1px rgba(0, 0, 0, 0.15);\n",
       "      filter: drop-shadow(0px 1px 2px rgba(0, 0, 0, 0.3));\n",
       "      fill: #FFFFFF;\n",
       "    }\n",
       "  </style>\n",
       "\n",
       "      <script>\n",
       "        const buttonEl =\n",
       "          document.querySelector('#df-a72232e9-7d84-4dc4-a684-b9452013a859 button.colab-df-convert');\n",
       "        buttonEl.style.display =\n",
       "          google.colab.kernel.accessAllowed ? 'block' : 'none';\n",
       "\n",
       "        async function convertToInteractive(key) {\n",
       "          const element = document.querySelector('#df-a72232e9-7d84-4dc4-a684-b9452013a859');\n",
       "          const dataTable =\n",
       "            await google.colab.kernel.invokeFunction('convertToInteractive',\n",
       "                                                     [key], {});\n",
       "          if (!dataTable) return;\n",
       "\n",
       "          const docLinkHtml = 'Like what you see? Visit the ' +\n",
       "            '<a target=\"_blank\" href=https://colab.research.google.com/notebooks/data_table.ipynb>data table notebook</a>'\n",
       "            + ' to learn more about interactive tables.';\n",
       "          element.innerHTML = '';\n",
       "          dataTable['output_type'] = 'display_data';\n",
       "          await google.colab.output.renderOutput(dataTable, element);\n",
       "          const docLink = document.createElement('div');\n",
       "          docLink.innerHTML = docLinkHtml;\n",
       "          element.appendChild(docLink);\n",
       "        }\n",
       "      </script>\n",
       "    </div>\n",
       "  </div>\n",
       "  "
      ],
      "text/plain": [
       "             tempo  number_of_emotion_tags  valence_tags  arousal_tags  \\\n",
       "count  4955.000000             4955.000000   4955.000000   4955.000000   \n",
       "mean      0.461059                0.205180      0.702058      0.598063   \n",
       "std       0.160219                0.187390      0.170696      0.148279   \n",
       "min       0.000000                0.000000      0.000000      0.000000   \n",
       "25%       0.336838                0.033333      0.597761      0.499935   \n",
       "50%       0.455838                0.133333      0.734942      0.592599   \n",
       "75%       0.564919                0.333333      0.834908      0.701480   \n",
       "max       1.000000                1.000000      1.000000      1.000000   \n",
       "\n",
       "       dominance_tags  \n",
       "count     4955.000000  \n",
       "mean         0.742637  \n",
       "std          0.135512  \n",
       "min          0.000000  \n",
       "25%          0.670659  \n",
       "50%          0.772431  \n",
       "75%          0.832460  \n",
       "max          1.000000  "
      ]
     },
     "execution_count": 14,
     "metadata": {},
     "output_type": "execute_result"
    }
   ],
   "source": [
    "minmax_scale_cols = ['tempo', 'number_of_emotion_tags', 'valence_tags', 'arousal_tags', 'dominance_tags']\n",
    "df[minmax_scale_cols] = MinMaxScaler().fit_transform(df[minmax_scale_cols])\n",
    "df[minmax_scale_cols].describe()"
   ]
  },
  {
   "cell_type": "code",
   "execution_count": 15,
   "id": "4grZFzqGcP4l",
   "metadata": {
    "colab": {
     "base_uri": "https://localhost:8080/",
     "height": 447
    },
    "id": "4grZFzqGcP4l",
    "outputId": "3c5c6ccf-2994-407b-be8c-30efb1a0d062"
   },
   "outputs": [
    {
     "data": {
      "text/plain": [
       "<Axes: >"
      ]
     },
     "execution_count": 15,
     "metadata": {},
     "output_type": "execute_result"
    },
    {
     "data": {
      "image/png": "[encoded data removed]",
      "text/plain": [
       "<Figure size 640x480 with 1 Axes>"
      ]
     },
     "metadata": {},
     "output_type": "display_data"
    }
   ],
   "source": [
    "df['loudness'].hist()"
   ]
  },
  {
   "cell_type": "markdown",
   "id": "mHsPcKAFiOY1",
   "metadata": {
    "id": "mHsPcKAFiOY1"
   },
   "source": [
    "Jacina zvuka je relativna velicina. 0 je najjaci zvuk i kraj referentne skale. Jacina zvuka treba da se skalira u procente od maksimalne jacine."
   ]
  },
  {
   "cell_type": "code",
   "execution_count": 40,
   "id": "4PBXhR2QgXle",
   "metadata": {
    "colab": {
     "base_uri": "https://localhost:8080/",
     "height": 447
    },
    "id": "4PBXhR2QgXle",
    "outputId": "1697c81f-f8d2-4023-9396-f7b896853619"
   },
   "outputs": [
    {
     "data": {
      "text/plain": [
       "<AxesSubplot:>"
      ]
     },
     "execution_count": 40,
     "metadata": {},
     "output_type": "execute_result"
    },
    {
     "data": {
      "image/png": "[encoded data removed]",
      "text/plain": [
       "<Figure size 432x288 with 1 Axes>"
      ]
     },
     "metadata": {
      "needs_background": "light"
     },
     "output_type": "display_data"
    }
   ],
   "source": [
    "df['loudness'] = (1 - df['loudness'] / df['loudness'].min())\n",
    "df['loudness'].hist()"
   ]
  },
  {
   "cell_type": "code",
   "execution_count": 17,
   "id": "UCLJ6BM_mcbv",
   "metadata": {
    "colab": {
     "base_uri": "https://localhost:8080/",
     "height": 472
    },
    "id": "UCLJ6BM_mcbv",
    "outputId": "252b51cd-c024-4cbd-812d-0849503b86cc"
   },
   "outputs": [
    {
     "data": {
      "text/plain": [
       "<Axes: >"
      ]
     },
     "execution_count": 17,
     "metadata": {},
     "output_type": "execute_result"
    },
    {
     "data": {
      "image/png": "[encoded data removed]",
      "text/plain": [
       "<Figure size 640x480 with 1 Axes>"
      ]
     },
     "metadata": {},
     "output_type": "display_data"
    }
   ],
   "source": [
    "df['mode'].value_counts().plot.bar()"
   ]
  },
  {
   "cell_type": "code",
   "execution_count": 18,
   "id": "HP0tWNpKlpeO",
   "metadata": {
    "id": "HP0tWNpKlpeO"
   },
   "outputs": [],
   "source": [
    "df['mode'] = LabelEncoder().fit_transform(df['mode'])"
   ]
  },
  {
   "cell_type": "code",
   "execution_count": 19,
   "id": "Z1QFKz5nnLNz",
   "metadata": {
    "colab": {
     "base_uri": "https://localhost:8080/",
     "height": 455
    },
    "id": "Z1QFKz5nnLNz",
    "outputId": "0eec9578-077e-4b27-a6c8-f3185d1754b1"
   },
   "outputs": [
    {
     "data": {
      "text/plain": [
       "<Axes: >"
      ]
     },
     "execution_count": 19,
     "metadata": {},
     "output_type": "execute_result"
    },
    {
     "data": {
      "image/png": "[encoded data removed]",
      "text/plain": [
       "<Figure size 640x480 with 1 Axes>"
      ]
     },
     "metadata": {},
     "output_type": "display_data"
    }
   ],
   "source": [
    "df['time_signature'].value_counts().plot.bar()"
   ]
  },
  {
   "cell_type": "code",
   "execution_count": 20,
   "id": "bmQKpuYWnlyw",
   "metadata": {
    "id": "bmQKpuYWnlyw"
   },
   "outputs": [],
   "source": [
    "df = pd.get_dummies(df, columns=['time_signature'])"
   ]
  },
  {
   "cell_type": "code",
   "execution_count": 21,
   "id": "44i7BgYm9eVr",
   "metadata": {
    "colab": {
     "base_uri": "https://localhost:8080/"
    },
    "id": "44i7BgYm9eVr",
    "outputId": "e6e45164-b0ae-4776-86c4-dc1764def7fc"
   },
   "outputs": [
    {
     "data": {
      "text/plain": [
       "Index(['track', 'artist', 'number_of_emotion_tags', 'valence_tags',\n",
       "       'arousal_tags', 'dominance_tags', 'spotify_id', 'seeds_array',\n",
       "       'artist_name', 'track_name', 'popularity', 'acousticness',\n",
       "       'danceability', 'duration_ms', 'energy', 'instrumentalness', 'key',\n",
       "       'liveness', 'loudness', 'mode', 'speechiness', 'tempo', 'valence',\n",
       "       'genres', 'Comedy', 'Soundtrack', 'Indie', 'Jazz', 'Pop', 'Electronic',\n",
       "       'Children’s Music', 'Folk', 'Hip-Hop', 'Rock', 'Alternative',\n",
       "       'Classical', 'Rap', 'World', 'Soul', 'Blues', 'R&B', 'Anime',\n",
       "       'Reggaeton', 'Ska', 'Reggae', 'Dance', 'Country', 'Opera', 'Movie',\n",
       "       'Children's Music', 'A Capella', 'artist_track', 'genius_url', 'lyrics',\n",
       "       'sentiment', 'time_signature_1/4', 'time_signature_3/4',\n",
       "       'time_signature_4/4', 'time_signature_5/4'],\n",
       "      dtype='object')"
      ]
     },
     "execution_count": 21,
     "metadata": {},
     "output_type": "execute_result"
    }
   ],
   "source": [
    "df.columns"
   ]
  },
  {
   "cell_type": "code",
   "execution_count": 41,
   "id": "2b93824e",
   "metadata": {
    "id": "2b93824e"
   },
   "outputs": [],
   "source": [
    "def train_val_test_prep(df):\n",
    "    df = df.drop(columns=['key', 'spotify_id', 'seeds_array', 'artist_name', 'track_name', 'popularity', 'duration_ms', 'A Capella', 'artist_track', 'genius_url'])\n",
    "    encoder = LabelEncoder().fit(df['sentiment'])\n",
    "    labels = dict(zip(encoder.classes_, encoder.transform(encoder.classes_)))\n",
    "    df['target'] = encoder.transform(df['sentiment'])\n",
    "        \n",
    "    train, test = train_test_split(df, test_size = 0.1, stratify=df['target'], random_state = 0)\n",
    "    train, val = train_test_split(train, test_size = 0.111, stratify=train['target'], random_state = 0)\n",
    "\n",
    "    return train, val, test"
   ]
  },
  {
   "cell_type": "code",
   "execution_count": 42,
   "id": "oPJS8bmTU2cx",
   "metadata": {
    "id": "oPJS8bmTU2cx"
   },
   "outputs": [],
   "source": [
    "train, val, test = train_val_test_prep(df)\n",
    "\n",
    "# x_train, y_train = RandomUnderSampler(random_state=0).fit_resample(train.drop(columns=['target', 'sentiment']), train['target'])\n",
    "# x_train, y_train = RandomOverSampler(random_state=0).fit_resample(train.drop(columns=['target', 'sentiment']), train['target'])\n",
    "# lyrics_train, meta_train, y_train = x_train['lyrics'], x_train.drop(columns=['lyrics']), y_train\n",
    "\n",
    "lyrics_train, meta_train, y_train = train['lyrics'], train.drop(columns=['lyrics', 'target', 'sentiment']), train['target']\n",
    "lyrics_val, meta_val, y_val =  val['lyrics'], val.drop(columns=['lyrics', 'target', 'sentiment']), val['target']\n",
    "lyrics_test, meta_test, y_test =  test['lyrics'], test.drop(columns=['lyrics', 'target', 'sentiment']), test['target']"
   ]
  },
  {
   "cell_type": "code",
   "execution_count": 31,
   "id": "40330f36",
   "metadata": {
    "scrolled": true
   },
   "outputs": [
    {
     "name": "stdout",
     "output_type": "stream",
     "text": [
      "(496, 47)\n",
      "relaxed_atmospheric    176\n",
      "upbeat_fun             162\n",
      "sad_melancholic         81\n",
      "intense_aggressive      39\n",
      "dark_gritty             38\n",
      "Name: sentiment, dtype: int64\n"
     ]
    },
    {
     "data": {
      "text/html": [
       "<div>\n",
       "<style scoped>\n",
       "    .dataframe tbody tr th:only-of-type {\n",
       "        vertical-align: middle;\n",
       "    }\n",
       "\n",
       "    .dataframe tbody tr th {\n",
       "        vertical-align: top;\n",
       "    }\n",
       "\n",
       "    .dataframe thead th {\n",
       "        text-align: right;\n",
       "    }\n",
       "</style>\n",
       "<table border=\"1\" class=\"dataframe\">\n",
       "  <thead>\n",
       "    <tr style=\"text-align: right;\">\n",
       "      <th></th>\n",
       "      <th>track</th>\n",
       "      <th>artist</th>\n",
       "      <th>number_of_emotion_tags</th>\n",
       "      <th>valence_tags</th>\n",
       "      <th>arousal_tags</th>\n",
       "      <th>dominance_tags</th>\n",
       "      <th>acousticness</th>\n",
       "      <th>danceability</th>\n",
       "      <th>energy</th>\n",
       "      <th>instrumentalness</th>\n",
       "      <th>...</th>\n",
       "      <th>Ska</th>\n",
       "      <th>Reggae</th>\n",
       "      <th>Dance</th>\n",
       "      <th>Country</th>\n",
       "      <th>Opera</th>\n",
       "      <th>Movie</th>\n",
       "      <th>Children's Music</th>\n",
       "      <th>lyrics</th>\n",
       "      <th>sentiment</th>\n",
       "      <th>target</th>\n",
       "    </tr>\n",
       "  </thead>\n",
       "  <tbody>\n",
       "    <tr>\n",
       "      <th>3802</th>\n",
       "      <td>Let Me Be Myself</td>\n",
       "      <td>3 Doors Down</td>\n",
       "      <td>4</td>\n",
       "      <td>3.822353</td>\n",
       "      <td>4.067647</td>\n",
       "      <td>4.183529</td>\n",
       "      <td>0.00468</td>\n",
       "      <td>0.496</td>\n",
       "      <td>0.675</td>\n",
       "      <td>0.000012</td>\n",
       "      <td>...</td>\n",
       "      <td>0</td>\n",
       "      <td>0</td>\n",
       "      <td>0</td>\n",
       "      <td>0</td>\n",
       "      <td>0</td>\n",
       "      <td>0</td>\n",
       "      <td>0</td>\n",
       "      <td>[Verse 1]\\r\\nI guess I just got lost\\r\\nBeing ...</td>\n",
       "      <td>sad_melancholic</td>\n",
       "      <td>3</td>\n",
       "    </tr>\n",
       "    <tr>\n",
       "      <th>3834</th>\n",
       "      <td>How To Fight Loneliness</td>\n",
       "      <td>Wilco</td>\n",
       "      <td>17</td>\n",
       "      <td>3.580000</td>\n",
       "      <td>3.656182</td>\n",
       "      <td>3.998909</td>\n",
       "      <td>0.59600</td>\n",
       "      <td>0.692</td>\n",
       "      <td>0.378</td>\n",
       "      <td>0.110000</td>\n",
       "      <td>...</td>\n",
       "      <td>0</td>\n",
       "      <td>0</td>\n",
       "      <td>0</td>\n",
       "      <td>1</td>\n",
       "      <td>0</td>\n",
       "      <td>0</td>\n",
       "      <td>0</td>\n",
       "      <td>[Verse 1]\\r\\nHow to fight loneliness\\r\\nSmile ...</td>\n",
       "      <td>sad_melancholic</td>\n",
       "      <td>3</td>\n",
       "    </tr>\n",
       "    <tr>\n",
       "      <th>1877</th>\n",
       "      <td>Get Over It</td>\n",
       "      <td>OK Go</td>\n",
       "      <td>11</td>\n",
       "      <td>7.327966</td>\n",
       "      <td>5.634407</td>\n",
       "      <td>6.331017</td>\n",
       "      <td>0.00127</td>\n",
       "      <td>0.389</td>\n",
       "      <td>0.767</td>\n",
       "      <td>0.000000</td>\n",
       "      <td>...</td>\n",
       "      <td>0</td>\n",
       "      <td>0</td>\n",
       "      <td>0</td>\n",
       "      <td>0</td>\n",
       "      <td>0</td>\n",
       "      <td>0</td>\n",
       "      <td>0</td>\n",
       "      <td>[Verse 1]\\r\\nLot of knots, lot of snags\\r\\nLot...</td>\n",
       "      <td>upbeat_fun</td>\n",
       "      <td>4</td>\n",
       "    </tr>\n",
       "    <tr>\n",
       "      <th>1400</th>\n",
       "      <td>Deja Vu</td>\n",
       "      <td>Eminem</td>\n",
       "      <td>4</td>\n",
       "      <td>7.075000</td>\n",
       "      <td>4.843333</td>\n",
       "      <td>5.710000</td>\n",
       "      <td>0.20900</td>\n",
       "      <td>0.702</td>\n",
       "      <td>0.866</td>\n",
       "      <td>0.000000</td>\n",
       "      <td>...</td>\n",
       "      <td>0</td>\n",
       "      <td>0</td>\n",
       "      <td>0</td>\n",
       "      <td>0</td>\n",
       "      <td>0</td>\n",
       "      <td>0</td>\n",
       "      <td>0</td>\n",
       "      <td>[Intro: Matthew St. Patrick]\\r\\nDMC, we have a...</td>\n",
       "      <td>upbeat_fun</td>\n",
       "      <td>4</td>\n",
       "    </tr>\n",
       "    <tr>\n",
       "      <th>3453</th>\n",
       "      <td>Nothing Even Matters</td>\n",
       "      <td>Lauryn Hill feat. D'Angelo</td>\n",
       "      <td>11</td>\n",
       "      <td>6.766927</td>\n",
       "      <td>4.242458</td>\n",
       "      <td>6.227709</td>\n",
       "      <td>0.70100</td>\n",
       "      <td>0.539</td>\n",
       "      <td>0.363</td>\n",
       "      <td>0.000003</td>\n",
       "      <td>...</td>\n",
       "      <td>0</td>\n",
       "      <td>0</td>\n",
       "      <td>0</td>\n",
       "      <td>0</td>\n",
       "      <td>0</td>\n",
       "      <td>0</td>\n",
       "      <td>0</td>\n",
       "      <td>[Intro: D'Angelo,\\r\\nLauryn Hill\\r\\n]\\r\\nOh, o...</td>\n",
       "      <td>relaxed_atmospheric</td>\n",
       "      <td>2</td>\n",
       "    </tr>\n",
       "  </tbody>\n",
       "</table>\n",
       "<p>5 rows × 47 columns</p>\n",
       "</div>"
      ],
      "text/plain": [
       "                        track                      artist  \\\n",
       "3802         Let Me Be Myself                3 Doors Down   \n",
       "3834  How To Fight Loneliness                       Wilco   \n",
       "1877              Get Over It                       OK Go   \n",
       "1400                  Deja Vu                      Eminem   \n",
       "3453     Nothing Even Matters  Lauryn Hill feat. D'Angelo   \n",
       "\n",
       "      number_of_emotion_tags  valence_tags  arousal_tags  dominance_tags  \\\n",
       "3802                       4      3.822353      4.067647        4.183529   \n",
       "3834                      17      3.580000      3.656182        3.998909   \n",
       "1877                      11      7.327966      5.634407        6.331017   \n",
       "1400                       4      7.075000      4.843333        5.710000   \n",
       "3453                      11      6.766927      4.242458        6.227709   \n",
       "\n",
       "      acousticness  danceability  energy  instrumentalness  ...  Ska  Reggae  \\\n",
       "3802       0.00468         0.496   0.675          0.000012  ...    0       0   \n",
       "3834       0.59600         0.692   0.378          0.110000  ...    0       0   \n",
       "1877       0.00127         0.389   0.767          0.000000  ...    0       0   \n",
       "1400       0.20900         0.702   0.866          0.000000  ...    0       0   \n",
       "3453       0.70100         0.539   0.363          0.000003  ...    0       0   \n",
       "\n",
       "     Dance  Country  Opera Movie  Children's Music  \\\n",
       "3802     0        0      0     0                 0   \n",
       "3834     0        1      0     0                 0   \n",
       "1877     0        0      0     0                 0   \n",
       "1400     0        0      0     0                 0   \n",
       "3453     0        0      0     0                 0   \n",
       "\n",
       "                                                 lyrics            sentiment  \\\n",
       "3802  [Verse 1]\\r\\nI guess I just got lost\\r\\nBeing ...      sad_melancholic   \n",
       "3834  [Verse 1]\\r\\nHow to fight loneliness\\r\\nSmile ...      sad_melancholic   \n",
       "1877  [Verse 1]\\r\\nLot of knots, lot of snags\\r\\nLot...           upbeat_fun   \n",
       "1400  [Intro: Matthew St. Patrick]\\r\\nDMC, we have a...           upbeat_fun   \n",
       "3453  [Intro: D'Angelo,\\r\\nLauryn Hill\\r\\n]\\r\\nOh, o...  relaxed_atmospheric   \n",
       "\n",
       "      target  \n",
       "3802       3  \n",
       "3834       3  \n",
       "1877       4  \n",
       "1400       4  \n",
       "3453       2  \n",
       "\n",
       "[5 rows x 47 columns]"
      ]
     },
     "execution_count": 31,
     "metadata": {},
     "output_type": "execute_result"
    }
   ],
   "source": [
    "print(test.shape)\n",
    "print(test[\"sentiment\"].value_counts())\n",
    "test.head()"
   ]
  },
  {
   "cell_type": "code",
   "execution_count": 43,
   "id": "c2106c9a",
   "metadata": {},
   "outputs": [],
   "source": [
    "val.to_csv(\"data/val_ds.csv\", index=False)"
   ]
  },
  {
   "cell_type": "code",
   "execution_count": 44,
   "id": "40c8e3a1",
   "metadata": {},
   "outputs": [],
   "source": [
    "test.to_csv(\"data/test_ds.csv\", index=False)"
   ]
  },
  {
   "cell_type": "markdown",
   "id": "44516ddb",
   "metadata": {
    "id": "44516ddb"
   },
   "source": [
    "## RNN embedding"
   ]
  },
  {
   "cell_type": "code",
   "execution_count": 29,
   "id": "DHxljXr-MjyT",
   "metadata": {
    "id": "DHxljXr-MjyT"
   },
   "outputs": [],
   "source": [
    "def plot_train_history(hist):\n",
    "    plt.plot(hist.history['loss'], '-', label='Training loss')\n",
    "    plt.plot(hist.history['val_loss'], '-', label='Validation loss')\n",
    "\n",
    "    # add axis labels and title\n",
    "    plt.xlabel('Epochs')\n",
    "    plt.ylabel('loss')\n",
    "    plt.title('Training and Validation Loss')\n",
    "\n",
    "    # add legend\n",
    "    plt.legend()\n",
    "\n",
    "    # show the plot\n",
    "    plt.show()"
   ]
  },
  {
   "cell_type": "code",
   "execution_count": 82,
   "id": "0b9f762b",
   "metadata": {
    "id": "0b9f762b"
   },
   "outputs": [],
   "source": [
    "max_seq_len = th   # Sequence length to pad/trunc the outputs to.\n",
    "embedding_dim = 100\n",
    "n_classes = 5\n",
    "\n",
    "def get_rnn(rnn_layer, docs, meta):\n",
    "    meta_input = Input(shape=(meta.shape[1],))\n",
    "    \n",
    "    nlp_input = Input(shape=(1, ), dtype=tf.string)\n",
    "\n",
    "    text_dataset = Dataset.from_tensor_slices(docs)\n",
    "    vectorize = TextVectorization(output_sequence_length=max_seq_len)\n",
    "    vectorize.adapt(text_dataset.batch(batch_size=64))\n",
    "    vectorized = vectorize(nlp_input)\n",
    "    \n",
    "    embed = Embedding(vectorize.vocabulary_size(), embedding_dim, input_length=max_seq_len, trainable=True)\n",
    "    embedded = embed(vectorized)\n",
    "    nlp_out = rnn_layer(embedded)\n",
    "    to_classify = concatenate([nlp_out, meta_input])\n",
    "    clf = Dense(128, activation='relu', kernel_regularizer=l2(0.0001))(to_classify)\n",
    "    clf = Dropout(0.5)(clf)\n",
    "    clf = Dense(128, activation='relu', kernel_regularizer=l2(0.0001))(clf)\n",
    "    clf = Dropout(0.5)(clf)\n",
    "    output = Dense(n_classes, activation='softmax')(clf)\n",
    "    \n",
    "    model = Model(inputs=[nlp_input, meta_input], outputs=[output])\n",
    "    \n",
    "    model.compile(loss='categorical_crossentropy', optimizer='adam', metrics=['accuracy'])\n",
    "    return model"
   ]
  },
  {
   "cell_type": "code",
   "execution_count": 83,
   "id": "5ddd62f9",
   "metadata": {
    "id": "5ddd62f9"
   },
   "outputs": [],
   "source": [
    "lstm = LSTM(128, dropout=0.2)\n",
    "ann = get_rnn(lstm, lyrics_train, meta_train)"
   ]
  },
  {
   "cell_type": "code",
   "execution_count": 84,
   "id": "MFyxIDwVJt8L",
   "metadata": {
    "id": "MFyxIDwVJt8L"
   },
   "outputs": [],
   "source": [
    "gru = GRU(128, dropout=0.2)\n",
    "ann = get_rnn(gru, lyrics_train, meta_train)"
   ]
  },
  {
   "cell_type": "code",
   "execution_count": 85,
   "id": "67218f14",
   "metadata": {
    "colab": {
     "base_uri": "https://localhost:8080/",
     "height": 1000
    },
    "id": "67218f14",
    "outputId": "75a9d6c8-366d-4464-f143-10dd0c39b1b3",
    "scrolled": true
   },
   "outputs": [
    {
     "name": "stdout",
     "output_type": "stream",
     "text": [
      "Epoch 1/200\n",
      "31/31 [==============================] - 10s 234ms/step - loss: 1.4849 - accuracy: 0.3428 - val_loss: 1.3870 - val_accuracy: 0.4707\n",
      "Epoch 2/200\n",
      "31/31 [==============================] - 5s 169ms/step - loss: 1.3996 - accuracy: 0.4036 - val_loss: 1.3227 - val_accuracy: 0.4727\n",
      "Epoch 3/200\n",
      "31/31 [==============================] - 5s 159ms/step - loss: 1.3459 - accuracy: 0.4334 - val_loss: 1.2638 - val_accuracy: 0.4707\n",
      "Epoch 4/200\n",
      "31/31 [==============================] - 5s 169ms/step - loss: 1.3072 - accuracy: 0.4541 - val_loss: 1.2291 - val_accuracy: 0.4727\n",
      "Epoch 5/200\n",
      "31/31 [==============================] - 4s 147ms/step - loss: 1.2774 - accuracy: 0.4740 - val_loss: 1.2037 - val_accuracy: 0.5374\n",
      "Epoch 6/200\n",
      "31/31 [==============================] - 5s 148ms/step - loss: 1.2394 - accuracy: 0.5000 - val_loss: 1.1534 - val_accuracy: 0.5556\n",
      "Epoch 7/200\n",
      "31/31 [==============================] - 5s 145ms/step - loss: 1.2059 - accuracy: 0.5111 - val_loss: 1.1350 - val_accuracy: 0.5596\n",
      "Epoch 8/200\n",
      "31/31 [==============================] - 4s 136ms/step - loss: 1.1895 - accuracy: 0.5245 - val_loss: 1.1169 - val_accuracy: 0.5596\n",
      "Epoch 9/200\n",
      "31/31 [==============================] - 5s 165ms/step - loss: 1.1684 - accuracy: 0.5242 - val_loss: 1.0985 - val_accuracy: 0.5677\n",
      "Epoch 10/200\n",
      "31/31 [==============================] - 4s 129ms/step - loss: 1.1481 - accuracy: 0.5472 - val_loss: 1.0931 - val_accuracy: 0.5778\n",
      "Epoch 11/200\n",
      "31/31 [==============================] - 4s 125ms/step - loss: 1.1194 - accuracy: 0.5638 - val_loss: 1.0727 - val_accuracy: 0.5758\n",
      "Epoch 12/200\n",
      "31/31 [==============================] - 4s 149ms/step - loss: 1.1167 - accuracy: 0.5565 - val_loss: 1.0602 - val_accuracy: 0.5798\n",
      "Epoch 13/200\n",
      "31/31 [==============================] - 4s 122ms/step - loss: 1.0986 - accuracy: 0.5653 - val_loss: 1.0526 - val_accuracy: 0.6000\n",
      "Epoch 14/200\n",
      "31/31 [==============================] - 4s 141ms/step - loss: 1.0851 - accuracy: 0.5706 - val_loss: 1.0478 - val_accuracy: 0.6081\n",
      "Epoch 15/200\n",
      "31/31 [==============================] - 4s 130ms/step - loss: 1.0698 - accuracy: 0.5691 - val_loss: 1.0396 - val_accuracy: 0.5859\n",
      "Epoch 16/200\n",
      "31/31 [==============================] - 3s 78ms/step - loss: 1.0675 - accuracy: 0.5729 - val_loss: 1.0513 - val_accuracy: 0.5980\n",
      "Epoch 17/200\n",
      "31/31 [==============================] - 4s 144ms/step - loss: 1.0522 - accuracy: 0.5949 - val_loss: 1.0385 - val_accuracy: 0.5980\n",
      "Epoch 18/200\n",
      "31/31 [==============================] - 3s 85ms/step - loss: 1.0547 - accuracy: 0.5805 - val_loss: 1.0391 - val_accuracy: 0.6020\n",
      "Epoch 19/200\n",
      "31/31 [==============================] - 4s 125ms/step - loss: 1.0439 - accuracy: 0.5898 - val_loss: 1.0349 - val_accuracy: 0.6081\n",
      "Epoch 20/200\n",
      "31/31 [==============================] - 3s 99ms/step - loss: 1.0313 - accuracy: 0.5941 - val_loss: 1.0295 - val_accuracy: 0.5899\n",
      "Epoch 21/200\n",
      "31/31 [==============================] - 3s 98ms/step - loss: 1.0228 - accuracy: 0.5961 - val_loss: 1.0315 - val_accuracy: 0.5960\n",
      "Epoch 22/200\n",
      "31/31 [==============================] - 3s 98ms/step - loss: 1.0213 - accuracy: 0.6049 - val_loss: 1.0321 - val_accuracy: 0.6101\n",
      "Epoch 23/200\n",
      "31/31 [==============================] - 3s 84ms/step - loss: 1.0179 - accuracy: 0.6014 - val_loss: 1.0255 - val_accuracy: 0.6061\n",
      "Epoch 24/200\n",
      "31/31 [==============================] - 2s 63ms/step - loss: 1.0034 - accuracy: 0.6044 - val_loss: 1.0360 - val_accuracy: 0.6000\n",
      "Epoch 25/200\n",
      "31/31 [==============================] - 2s 77ms/step - loss: 1.0134 - accuracy: 0.6027 - val_loss: 1.0357 - val_accuracy: 0.6000\n",
      "Epoch 26/200\n",
      "31/31 [==============================] - 2s 74ms/step - loss: 1.0012 - accuracy: 0.6032 - val_loss: 1.0367 - val_accuracy: 0.6040\n"
     ]
    },
    {
     "data": {
      "image/png": "[encoded data removed]",
      "text/plain": [
       "<Figure size 640x480 with 1 Axes>"
      ]
     },
     "metadata": {},
     "output_type": "display_data"
    },
    {
     "name": "stdout",
     "output_type": "stream",
     "text": [
      "16/16 [==============================] - 0s 7ms/step\n",
      "              precision    recall  f1-score   support\n",
      "\n",
      "           0       0.33      0.26      0.29        38\n",
      "           1       0.47      0.54      0.50        39\n",
      "           2       0.61      0.57      0.59       176\n",
      "           3       0.61      0.67      0.64        81\n",
      "           4       0.63      0.65      0.64       162\n",
      "\n",
      "    accuracy                           0.59       496\n",
      "   macro avg       0.53      0.54      0.53       496\n",
      "weighted avg       0.58      0.59      0.58       496\n",
      "\n"
     ]
    }
   ],
   "source": [
    "hist = ann.fit(\n",
    "    [lyrics_train, meta_train], to_categorical(y_train),  \n",
    "    validation_data=([lyrics_val, meta_val], to_categorical(y_val)), \n",
    "    callbacks=[EarlyStopping(patience=3)],\n",
    "    epochs=200,\n",
    "    batch_size=128)\n",
    "plot_train_history(hist)\n",
    "print(classification_report(y_test, np.argmax(ann.predict([lyrics_test, meta_test]), axis=-1)))"
   ]
  },
  {
   "cell_type": "markdown",
   "id": "NMpKMSXGPkn4",
   "metadata": {
    "id": "NMpKMSXGPkn4"
   },
   "source": [
    "## Word2Vec, Glove"
   ]
  },
  {
   "cell_type": "code",
   "execution_count": null,
   "id": "ck14xVnxP3po",
   "metadata": {
    "id": "ck14xVnxP3po"
   },
   "outputs": [],
   "source": [
    "wg = pd.read_csv('word_vector_embeddings_final.csv', index_col=0)\n",
    "print(wg.shape)\n",
    "wg.head()"
   ]
  },
  {
   "cell_type": "code",
   "execution_count": null,
   "id": "9GkdzWV7SG-1",
   "metadata": {
    "id": "9GkdzWV7SG-1"
   },
   "outputs": [],
   "source": [
    "wg_df = pd.merge(df, wg[['artist', 'track', 'lyrics_glove', 'lyrics_w2v', 'lyrics_glove_twitter']], on=['artist', 'track'], how='inner')\n",
    "wg_df.columns"
   ]
  },
  {
   "cell_type": "code",
   "execution_count": 25,
   "id": "2SVihJq9c_7w",
   "metadata": {
    "id": "2SVihJq9c_7w"
   },
   "outputs": [],
   "source": [
    "train, val, test = train_val_test_prep(wg_df)"
   ]
  },
  {
   "cell_type": "code",
   "execution_count": 103,
   "id": "DMa_wEBUe4lQ",
   "metadata": {
    "colab": {
     "base_uri": "https://localhost:8080/"
    },
    "id": "DMa_wEBUe4lQ",
    "outputId": "41ebd280-423d-4ce4-a330-3b28edd72f5f"
   },
   "outputs": [
    {
     "name": "stdout",
     "output_type": "stream",
     "text": [
      "Embed type: lyrics_glove  Embed dim: 300\n",
      "Train_size: 3964, Val_size: 495, Test_size: 496\n"
     ]
    }
   ],
   "source": [
    "def embed_to_np(embed):\n",
    "    to_np = lambda x: np.fromstring(x[1:-1], sep=' ')\n",
    "    return np.array(embed.apply(to_np).to_list())\n",
    "\n",
    "# w2v\n",
    "# embed_type = 'lyrics_w2v'\n",
    "# glove\n",
    "embed_type = 'lyrics_glove'\n",
    "# glove_twitter\n",
    "# embed_type = 'lyrics_glove_twitter'\n",
    "\n",
    "embed_dim = embed_to_np(wg_df[embed_type]).shape[1]\n",
    "\n",
    "print(f'Embed type: {embed_type}  Embed dim: {embed_dim}')\n",
    "\n",
    "non_meta_cols = ['lyrics', 'target', 'sentiment', 'lyrics_w2v', 'lyrics_glove', 'lyrics_glove_twitter']\n",
    "\n",
    "meta_train, meta_val, meta_test = train.drop(columns=non_meta_cols), val.drop(columns=non_meta_cols), test.drop(columns=non_meta_cols)\n",
    "y_train, y_val, y_test = train['target'], val['target'], test['target']\n",
    "embed_train, embed_val, embed_test = embed_to_np(train[embed_type]), embed_to_np(val[embed_type]), embed_to_np(test[embed_type])\n",
    "print(f'Train_size: {y_train.shape[0]}, Val_size: {y_val.shape[0]}, Test_size: {y_test.shape[0]}')"
   ]
  },
  {
   "cell_type": "code",
   "execution_count": 106,
   "id": "7HAQ-HFmjKJo",
   "metadata": {
    "id": "7HAQ-HFmjKJo"
   },
   "outputs": [],
   "source": [
    "n_classes = 5\n",
    "def get_ann_wg(embed_dim, meta_dim):\n",
    "    meta_input = Input(shape=(meta_dim,))\n",
    "    nlp_input = Input(shape=(embed_dim, ))\n",
    "\n",
    "    to_classify = concatenate([nlp_input, meta_input])\n",
    "    clf = Dense(64, activation='relu', kernel_regularizer=l2(0.0001))(to_classify)\n",
    "    clf = Dropout(0.5)(clf)\n",
    "    clf = BatchNormalization()(clf)\n",
    "\n",
    "    clf = Dense(32, activation='relu', kernel_regularizer=l2(0.0001))(clf)\n",
    "    clf = Dropout(0.5)(clf)\n",
    "    clf = BatchNormalization()(clf)\n",
    "    \n",
    "    output = Dense(n_classes, activation='softmax')(clf)\n",
    "    \n",
    "    model = Model(inputs=[nlp_input, meta_input], outputs=[output])\n",
    "    \n",
    "    model.compile(loss='categorical_crossentropy', optimizer='adam', metrics=['accuracy'])\n",
    "    return model"
   ]
  },
  {
   "cell_type": "code",
   "execution_count": 107,
   "id": "wTMVM7rfxODB",
   "metadata": {
    "colab": {
     "base_uri": "https://localhost:8080/",
     "height": 1000
    },
    "id": "wTMVM7rfxODB",
    "outputId": "ccd6fefe-a39b-4489-e6d1-81e14eb88bae"
   },
   "outputs": [
    {
     "name": "stdout",
     "output_type": "stream",
     "text": [
      "Epoch 1/200\n",
      "62/62 [==============================] - 3s 12ms/step - loss: 2.0040 - accuracy: 0.2185 - val_loss: 1.5280 - val_accuracy: 0.3273\n",
      "Epoch 2/200\n",
      "62/62 [==============================] - 0s 8ms/step - loss: 1.7401 - accuracy: 0.2896 - val_loss: 1.4925 - val_accuracy: 0.3434\n",
      "Epoch 3/200\n",
      "62/62 [==============================] - 0s 6ms/step - loss: 1.6009 - accuracy: 0.3466 - val_loss: 1.4295 - val_accuracy: 0.4141\n",
      "Epoch 4/200\n",
      "62/62 [==============================] - 0s 5ms/step - loss: 1.5237 - accuracy: 0.3746 - val_loss: 1.4041 - val_accuracy: 0.4222\n",
      "Epoch 5/200\n",
      "62/62 [==============================] - 0s 6ms/step - loss: 1.4465 - accuracy: 0.4062 - val_loss: 1.3380 - val_accuracy: 0.4505\n",
      "Epoch 6/200\n",
      "62/62 [==============================] - 0s 6ms/step - loss: 1.4057 - accuracy: 0.4188 - val_loss: 1.3223 - val_accuracy: 0.4667\n",
      "Epoch 7/200\n",
      "62/62 [==============================] - 0s 5ms/step - loss: 1.3699 - accuracy: 0.4339 - val_loss: 1.2887 - val_accuracy: 0.4949\n",
      "Epoch 8/200\n",
      "62/62 [==============================] - 0s 7ms/step - loss: 1.3371 - accuracy: 0.4503 - val_loss: 1.2399 - val_accuracy: 0.5131\n",
      "Epoch 9/200\n",
      "62/62 [==============================] - 0s 6ms/step - loss: 1.3132 - accuracy: 0.4561 - val_loss: 1.2250 - val_accuracy: 0.5354\n",
      "Epoch 10/200\n",
      "62/62 [==============================] - 0s 6ms/step - loss: 1.2814 - accuracy: 0.4821 - val_loss: 1.2085 - val_accuracy: 0.5273\n",
      "Epoch 11/200\n",
      "62/62 [==============================] - 0s 6ms/step - loss: 1.2732 - accuracy: 0.4811 - val_loss: 1.1702 - val_accuracy: 0.5414\n",
      "Epoch 12/200\n",
      "62/62 [==============================] - 0s 5ms/step - loss: 1.2389 - accuracy: 0.4834 - val_loss: 1.1630 - val_accuracy: 0.5515\n",
      "Epoch 13/200\n",
      "62/62 [==============================] - 0s 5ms/step - loss: 1.2271 - accuracy: 0.5035 - val_loss: 1.1747 - val_accuracy: 0.5455\n",
      "Epoch 14/200\n",
      "62/62 [==============================] - 0s 6ms/step - loss: 1.2050 - accuracy: 0.5114 - val_loss: 1.1401 - val_accuracy: 0.5495\n",
      "Epoch 15/200\n",
      "62/62 [==============================] - 0s 5ms/step - loss: 1.2022 - accuracy: 0.5078 - val_loss: 1.1552 - val_accuracy: 0.5475\n",
      "Epoch 16/200\n",
      "62/62 [==============================] - 0s 5ms/step - loss: 1.1817 - accuracy: 0.5257 - val_loss: 1.1152 - val_accuracy: 0.5515\n",
      "Epoch 17/200\n",
      "62/62 [==============================] - 0s 5ms/step - loss: 1.1744 - accuracy: 0.5202 - val_loss: 1.1422 - val_accuracy: 0.5556\n",
      "Epoch 18/200\n",
      "62/62 [==============================] - 0s 6ms/step - loss: 1.1642 - accuracy: 0.5376 - val_loss: 1.1050 - val_accuracy: 0.5556\n",
      "Epoch 19/200\n",
      "62/62 [==============================] - 0s 5ms/step - loss: 1.1505 - accuracy: 0.5371 - val_loss: 1.1073 - val_accuracy: 0.5556\n",
      "Epoch 20/200\n",
      "62/62 [==============================] - 0s 6ms/step - loss: 1.1424 - accuracy: 0.5363 - val_loss: 1.0898 - val_accuracy: 0.5616\n",
      "Epoch 21/200\n",
      "62/62 [==============================] - 0s 5ms/step - loss: 1.1409 - accuracy: 0.5396 - val_loss: 1.0800 - val_accuracy: 0.5677\n",
      "Epoch 22/200\n",
      "62/62 [==============================] - 0s 5ms/step - loss: 1.1411 - accuracy: 0.5409 - val_loss: 1.1071 - val_accuracy: 0.5798\n",
      "Epoch 23/200\n",
      "62/62 [==============================] - 0s 7ms/step - loss: 1.1139 - accuracy: 0.5563 - val_loss: 1.0960 - val_accuracy: 0.5818\n",
      "Epoch 24/200\n",
      "62/62 [==============================] - 0s 6ms/step - loss: 1.1219 - accuracy: 0.5510 - val_loss: 1.0982 - val_accuracy: 0.5717\n"
     ]
    },
    {
     "data": {
      "image/png": "[encoded data removed]",
      "text/plain": [
       "<Figure size 640x480 with 1 Axes>"
      ]
     },
     "metadata": {},
     "output_type": "display_data"
    },
    {
     "name": "stdout",
     "output_type": "stream",
     "text": [
      "16/16 [==============================] - 0s 2ms/step\n",
      "              precision    recall  f1-score   support\n",
      "\n",
      "           0       0.54      0.18      0.27        38\n",
      "           1       0.60      0.38      0.47        39\n",
      "           2       0.68      0.50      0.58       176\n",
      "           3       0.61      0.67      0.64        81\n",
      "           4       0.54      0.80      0.65       162\n",
      "\n",
      "    accuracy                           0.59       496\n",
      "   macro avg       0.59      0.51      0.52       496\n",
      "weighted avg       0.61      0.59      0.58       496\n",
      "\n"
     ]
    }
   ],
   "source": [
    "ann = get_ann_wg(embed_dim, meta_train.shape[1])\n",
    "\n",
    "hist = ann.fit(\n",
    "    [embed_train, meta_train], to_categorical(y_train),  \n",
    "    validation_data=([embed_val, meta_val], to_categorical(y_val)), \n",
    "    callbacks=[EarlyStopping(patience=3)],\n",
    "    epochs=200,\n",
    "    batch_size=64)\n",
    "plot_train_history(hist)\n",
    "print(classification_report(y_test, np.argmax(ann.predict([embed_test, meta_test]), axis=-1)))"
   ]
  },
  {
   "cell_type": "markdown",
   "id": "tcQRJgbD4BNQ",
   "metadata": {
    "id": "tcQRJgbD4BNQ"
   },
   "source": [
    "##  BERT, ELMO"
   ]
  },
  {
   "cell_type": "code",
   "execution_count": 108,
   "id": "y5hg0ZLj-wN8",
   "metadata": {
    "colab": {
     "base_uri": "https://localhost:8080/",
     "height": 224
    },
    "id": "y5hg0ZLj-wN8",
    "outputId": "9ae8997f-4a3e-43e9-9e83-ce79074686f7"
   },
   "outputs": [
    {
     "name": "stdout",
     "output_type": "stream",
     "text": [
      "(4955, 3)\n"
     ]
    },
    {
     "data": {
      "text/html": [
       "\n",
       "  <div id=\"df-5654ac6a-a7e1-4e98-babd-215cec56dd1a\">\n",
       "    <div class=\"colab-df-container\">\n",
       "      <div>\n",
       "<style scoped>\n",
       "    .dataframe tbody tr th:only-of-type {\n",
       "        vertical-align: middle;\n",
       "    }\n",
       "\n",
       "    .dataframe tbody tr th {\n",
       "        vertical-align: top;\n",
       "    }\n",
       "\n",
       "    .dataframe thead th {\n",
       "        text-align: right;\n",
       "    }\n",
       "</style>\n",
       "<table border=\"1\" class=\"dataframe\">\n",
       "  <thead>\n",
       "    <tr style=\"text-align: right;\">\n",
       "      <th></th>\n",
       "      <th>track</th>\n",
       "      <th>artist</th>\n",
       "      <th>embedded_lyrics</th>\n",
       "    </tr>\n",
       "  </thead>\n",
       "  <tbody>\n",
       "    <tr>\n",
       "      <th>0</th>\n",
       "      <td>'Till I Collapse</td>\n",
       "      <td>Eminem</td>\n",
       "      <td>[ 1.54634953e-01 -5.11078909e-03  5.06923676e-...</td>\n",
       "    </tr>\n",
       "    <tr>\n",
       "      <th>1</th>\n",
       "      <td>St. Anger</td>\n",
       "      <td>Metallica</td>\n",
       "      <td>[ 1.72974318e-02  1.21722564e-01  4.57439095e-...</td>\n",
       "    </tr>\n",
       "    <tr>\n",
       "      <th>2</th>\n",
       "      <td>Die MF Die</td>\n",
       "      <td>Dope</td>\n",
       "      <td>[ 4.53510493e-01  2.41083160e-01  3.90855342e-...</td>\n",
       "    </tr>\n",
       "    <tr>\n",
       "      <th>3</th>\n",
       "      <td>Step Up</td>\n",
       "      <td>Drowning Pool</td>\n",
       "      <td>[ 1.94582716e-01 -8.45494941e-02  3.98656428e-...</td>\n",
       "    </tr>\n",
       "    <tr>\n",
       "      <th>4</th>\n",
       "      <td>Feedback</td>\n",
       "      <td>Kanye West</td>\n",
       "      <td>[ 2.07781702e-01  2.55387686e-02  4.91093695e-...</td>\n",
       "    </tr>\n",
       "  </tbody>\n",
       "</table>\n",
       "</div>\n",
       "      <button class=\"colab-df-convert\" onclick=\"convertToInteractive('df-5654ac6a-a7e1-4e98-babd-215cec56dd1a')\"\n",
       "              title=\"Convert this dataframe to an interactive table.\"\n",
       "              style=\"display:none;\">\n",
       "        \n",
       "  <svg xmlns=\"http://www.w3.org/2000/svg\" height=\"24px\"viewBox=\"0 0 24 24\"\n",
       "       width=\"24px\">\n",
       "    <path d=\"M0 0h24v24H0V0z\" fill=\"none\"/>\n",
       "    <path d=\"M18.56 5.44l.94 2.06.94-2.06 2.06-.94-2.06-.94-.94-2.06-.94 2.06-2.06.94zm-11 1L8.5 8.5l.94-2.06 2.06-.94-2.06-.94L8.5 2.5l-.94 2.06-2.06.94zm10 10l.94 2.06.94-2.06 2.06-.94-2.06-.94-.94-2.06-.94 2.06-2.06.94z\"/><path d=\"M17.41 7.96l-1.37-1.37c-.4-.4-.92-.59-1.43-.59-.52 0-1.04.2-1.43.59L10.3 9.45l-7.72 7.72c-.78.78-.78 2.05 0 2.83L4 21.41c.39.39.9.59 1.41.59.51 0 1.02-.2 1.41-.59l7.78-7.78 2.81-2.81c.8-.78.8-2.07 0-2.86zM5.41 20L4 18.59l7.72-7.72 1.47 1.35L5.41 20z\"/>\n",
       "  </svg>\n",
       "      </button>\n",
       "      \n",
       "  <style>\n",
       "    .colab-df-container {\n",
       "      display:flex;\n",
       "      flex-wrap:wrap;\n",
       "      gap: 12px;\n",
       "    }\n",
       "\n",
       "    .colab-df-convert {\n",
       "      background-color: #E8F0FE;\n",
       "      border: none;\n",
       "      border-radius: 50%;\n",
       "      cursor: pointer;\n",
       "      display: none;\n",
       "      fill: #1967D2;\n",
       "      height: 32px;\n",
       "      padding: 0 0 0 0;\n",
       "      width: 32px;\n",
       "    }\n",
       "\n",
       "    .colab-df-convert:hover {\n",
       "      background-color: #E2EBFA;\n",
       "      box-shadow: 0px 1px 2px rgba(60, 64, 67, 0.3), 0px 1px 3px 1px rgba(60, 64, 67, 0.15);\n",
       "      fill: #174EA6;\n",
       "    }\n",
       "\n",
       "    [theme=dark] .colab-df-convert {\n",
       "      background-color: #3B4455;\n",
       "      fill: #D2E3FC;\n",
       "    }\n",
       "\n",
       "    [theme=dark] .colab-df-convert:hover {\n",
       "      background-color: #434B5C;\n",
       "      box-shadow: 0px 1px 3px 1px rgba(0, 0, 0, 0.15);\n",
       "      filter: drop-shadow(0px 1px 2px rgba(0, 0, 0, 0.3));\n",
       "      fill: #FFFFFF;\n",
       "    }\n",
       "  </style>\n",
       "\n",
       "      <script>\n",
       "        const buttonEl =\n",
       "          document.querySelector('#df-5654ac6a-a7e1-4e98-babd-215cec56dd1a button.colab-df-convert');\n",
       "        buttonEl.style.display =\n",
       "          google.colab.kernel.accessAllowed ? 'block' : 'none';\n",
       "\n",
       "        async function convertToInteractive(key) {\n",
       "          const element = document.querySelector('#df-5654ac6a-a7e1-4e98-babd-215cec56dd1a');\n",
       "          const dataTable =\n",
       "            await google.colab.kernel.invokeFunction('convertToInteractive',\n",
       "                                                     [key], {});\n",
       "          if (!dataTable) return;\n",
       "\n",
       "          const docLinkHtml = 'Like what you see? Visit the ' +\n",
       "            '<a target=\"_blank\" href=https://colab.research.google.com/notebooks/data_table.ipynb>data table notebook</a>'\n",
       "            + ' to learn more about interactive tables.';\n",
       "          element.innerHTML = '';\n",
       "          dataTable['output_type'] = 'display_data';\n",
       "          await google.colab.output.renderOutput(dataTable, element);\n",
       "          const docLink = document.createElement('div');\n",
       "          docLink.innerHTML = docLinkHtml;\n",
       "          element.appendChild(docLink);\n",
       "        }\n",
       "      </script>\n",
       "    </div>\n",
       "  </div>\n",
       "  "
      ],
      "text/plain": [
       "              track         artist  \\\n",
       "0  'Till I Collapse         Eminem   \n",
       "1         St. Anger      Metallica   \n",
       "2        Die MF Die           Dope   \n",
       "3           Step Up  Drowning Pool   \n",
       "4          Feedback     Kanye West   \n",
       "\n",
       "                                     embedded_lyrics  \n",
       "0  [ 1.54634953e-01 -5.11078909e-03  5.06923676e-...  \n",
       "1  [ 1.72974318e-02  1.21722564e-01  4.57439095e-...  \n",
       "2  [ 4.53510493e-01  2.41083160e-01  3.90855342e-...  \n",
       "3  [ 1.94582716e-01 -8.45494941e-02  3.98656428e-...  \n",
       "4  [ 2.07781702e-01  2.55387686e-02  4.91093695e-...  "
      ]
     },
     "execution_count": 108,
     "metadata": {},
     "output_type": "execute_result"
    }
   ],
   "source": [
    "bert_df = pd.read_csv('music_bert_2.csv', index_col=0)[['track', 'artist', 'embedded_lyrics']]\n",
    "print(bert_df.shape)\n",
    "bert_df.head()"
   ]
  },
  {
   "cell_type": "code",
   "execution_count": 109,
   "id": "w33zSFIy-wOL",
   "metadata": {
    "colab": {
     "base_uri": "https://localhost:8080/"
    },
    "id": "w33zSFIy-wOL",
    "outputId": "5c8b9f77-5ef1-4edc-bf63-88c038986eb8"
   },
   "outputs": [
    {
     "data": {
      "text/plain": [
       "Index(['track', 'artist', 'number_of_emotion_tags', 'valence_tags',\n",
       "       'arousal_tags', 'dominance_tags', 'spotify_id', 'seeds_array',\n",
       "       'artist_name', 'track_name', 'popularity', 'acousticness',\n",
       "       'danceability', 'duration_ms', 'energy', 'instrumentalness', 'key',\n",
       "       'liveness', 'loudness', 'mode', 'speechiness', 'tempo', 'valence',\n",
       "       'genres', 'Comedy', 'Soundtrack', 'Indie', 'Jazz', 'Pop', 'Electronic',\n",
       "       'Children’s Music', 'Folk', 'Hip-Hop', 'Rock', 'Alternative',\n",
       "       'Classical', 'Rap', 'World', 'Soul', 'Blues', 'R&B', 'Anime',\n",
       "       'Reggaeton', 'Ska', 'Reggae', 'Dance', 'Country', 'Opera', 'Movie',\n",
       "       'Children's Music', 'A Capella', 'artist_track', 'genius_url', 'lyrics',\n",
       "       'sentiment', 'time_signature_1/4', 'time_signature_3/4',\n",
       "       'time_signature_4/4', 'time_signature_5/4', 'embedded_lyrics'],\n",
       "      dtype='object')"
      ]
     },
     "execution_count": 109,
     "metadata": {},
     "output_type": "execute_result"
    }
   ],
   "source": [
    "bert_df = pd.merge(df, bert_df, on=['artist', 'track'], how='inner')\n",
    "bert_df.columns"
   ]
  },
  {
   "cell_type": "code",
   "execution_count": 110,
   "id": "3h9MjAVp-wOL",
   "metadata": {
    "id": "3h9MjAVp-wOL"
   },
   "outputs": [],
   "source": [
    "train, val, test = train_val_test_prep(bert_df)"
   ]
  },
  {
   "cell_type": "code",
   "execution_count": 111,
   "id": "3QwJUUrO-wOM",
   "metadata": {
    "colab": {
     "base_uri": "https://localhost:8080/"
    },
    "id": "3QwJUUrO-wOM",
    "outputId": "819cc5e9-1f62-4b78-adeb-9db60943476d"
   },
   "outputs": [
    {
     "name": "stdout",
     "output_type": "stream",
     "text": [
      "Embed type: embedded_lyrics  Embed dim: 768\n",
      "Train_size: 3964, Val_size: 495, Test_size: 496\n"
     ]
    }
   ],
   "source": [
    "def embed_to_np(embed):\n",
    "    to_np = lambda x: np.fromstring(x[1:-1], sep=' ')\n",
    "    return np.array(embed.apply(to_np).to_list())\n",
    "\n",
    "embed_type = 'embedded_lyrics'\n",
    "\n",
    "embed_dim = embed_to_np(bert_df[embed_type]).shape[1]\n",
    "\n",
    "print(f'Embed type: {embed_type}  Embed dim: {embed_dim}')\n",
    "\n",
    "non_meta_cols = ['lyrics', 'target', 'sentiment', 'embedded_lyrics']\n",
    "\n",
    "meta_train, meta_val, meta_test = train.drop(columns=non_meta_cols), val.drop(columns=non_meta_cols), test.drop(columns=non_meta_cols)\n",
    "y_train, y_val, y_test = train['target'], val['target'], test['target']\n",
    "embed_train, embed_val, embed_test = embed_to_np(train[embed_type]), embed_to_np(val[embed_type]), embed_to_np(test[embed_type])\n",
    "print(f'Train_size: {y_train.shape[0]}, Val_size: {y_val.shape[0]}, Test_size: {y_test.shape[0]}')"
   ]
  },
  {
   "cell_type": "code",
   "execution_count": 151,
   "id": "NI_Rkbr2AY01",
   "metadata": {
    "id": "NI_Rkbr2AY01"
   },
   "outputs": [],
   "source": [
    "n_classes = 5\n",
    "def get_ann_bert(embed_dim, meta_dim):\n",
    "    print(f'Embed dim: {embed_dim}  Meta dim: {meta_dim}')\n",
    "    meta_input = Input(shape=(meta_dim,))\n",
    "    nlp_input = Input(shape=(embed_dim, ))\n",
    "\n",
    "    to_classify = concatenate([nlp_input, meta_input])\n",
    "    clf = Dense(512, activation='relu', kernel_regularizer=l2(0.0001))(to_classify)\n",
    "    clf = Dropout(0.5)(clf)\n",
    "    clf = BatchNormalization()(clf)\n",
    "    clf = Dense(256, activation='relu', kernel_regularizer=l2(0.0001))(clf)\n",
    "    clf = Dropout(0.5)(clf)\n",
    "    clf = BatchNormalization()(clf)\n",
    "    clf = Dense(256, activation='relu', kernel_regularizer=l2(0.0001))(clf)\n",
    "    clf = Dropout(0.5)(clf)\n",
    "    clf = BatchNormalization()(clf)\n",
    "    clf = Dense(32, activation='relu', kernel_regularizer=l2(0.0001))(clf)\n",
    "    clf = Dropout(0.5)(clf)\n",
    "    clf = BatchNormalization()(clf)\n",
    "\n",
    "\n",
    "    # clf = Dense(128, activation='relu', kernel_regularizer=l2(0.0001))(to_classify)\n",
    "    # clf = Dropout(0.5)(clf)\n",
    "    # # clf = Dense(128, activation='relu', kernel_regularizer=l2(0.0001))(clf)\n",
    "    # clf = Dropout(0.5)(clf)\n",
    "    # clf = Dense(128, activation='relu', kernel_regularizer=l2(0.0001))(clf)\n",
    "    # clf = Dropout(0.5)(clf)\n",
    "    # clf = Dense(32, activation='relu', kernel_regularizer=l2(0.0001))(clf)\n",
    "    # clf = Dropout(0.5)(clf)\n",
    "    # clf = Dense(16, activation='relu', kernel_regularizer=l2(0.0001))(clf)\n",
    "    # clf = Dropout(0.5)(clf)\n",
    "    output = Dense(n_classes, activation='softmax')(clf)\n",
    "    \n",
    "    model = Model(inputs=[nlp_input, meta_input], outputs=[output])\n",
    "    \n",
    "    model.compile(loss='categorical_crossentropy', optimizer='adam', metrics=['accuracy'])\n",
    "    return model"
   ]
  },
  {
   "cell_type": "code",
   "execution_count": 152,
   "id": "aqrz2ba3AY02",
   "metadata": {
    "colab": {
     "base_uri": "https://localhost:8080/",
     "height": 1000
    },
    "id": "aqrz2ba3AY02",
    "outputId": "23352688-26d5-43db-ddbd-a4d4b4020559"
   },
   "outputs": [
    {
     "name": "stdout",
     "output_type": "stream",
     "text": [
      "Embed dim: 768  Meta dim: 44\n",
      "Epoch 1/200\n",
      "31/31 [==============================] - 5s 17ms/step - loss: 2.2120 - accuracy: 0.2263 - val_loss: 1.6170 - val_accuracy: 0.3758\n",
      "Epoch 2/200\n",
      "31/31 [==============================] - 0s 8ms/step - loss: 2.0132 - accuracy: 0.2404 - val_loss: 1.5693 - val_accuracy: 0.3556\n",
      "Epoch 3/200\n",
      "31/31 [==============================] - 0s 8ms/step - loss: 1.8973 - accuracy: 0.2702 - val_loss: 1.5631 - val_accuracy: 0.3495\n",
      "Epoch 4/200\n",
      "31/31 [==============================] - 0s 8ms/step - loss: 1.8002 - accuracy: 0.2982 - val_loss: 1.5418 - val_accuracy: 0.3535\n",
      "Epoch 5/200\n",
      "31/31 [==============================] - 0s 9ms/step - loss: 1.7472 - accuracy: 0.3030 - val_loss: 1.5292 - val_accuracy: 0.3636\n",
      "Epoch 6/200\n",
      "31/31 [==============================] - 0s 8ms/step - loss: 1.6957 - accuracy: 0.3320 - val_loss: 1.5168 - val_accuracy: 0.3939\n",
      "Epoch 7/200\n",
      "31/31 [==============================] - 0s 9ms/step - loss: 1.6370 - accuracy: 0.3502 - val_loss: 1.5010 - val_accuracy: 0.4000\n",
      "Epoch 8/200\n",
      "31/31 [==============================] - 0s 8ms/step - loss: 1.5943 - accuracy: 0.3835 - val_loss: 1.5063 - val_accuracy: 0.4202\n",
      "Epoch 9/200\n",
      "31/31 [==============================] - 0s 9ms/step - loss: 1.5647 - accuracy: 0.3875 - val_loss: 1.4875 - val_accuracy: 0.4343\n",
      "Epoch 10/200\n",
      "31/31 [==============================] - 0s 9ms/step - loss: 1.5332 - accuracy: 0.4157 - val_loss: 1.4772 - val_accuracy: 0.4182\n",
      "Epoch 11/200\n",
      "31/31 [==============================] - 0s 8ms/step - loss: 1.5283 - accuracy: 0.4132 - val_loss: 1.4729 - val_accuracy: 0.4202\n",
      "Epoch 12/200\n",
      "31/31 [==============================] - 0s 8ms/step - loss: 1.5027 - accuracy: 0.4223 - val_loss: 1.4331 - val_accuracy: 0.4626\n",
      "Epoch 13/200\n",
      "31/31 [==============================] - 0s 8ms/step - loss: 1.4792 - accuracy: 0.4337 - val_loss: 1.4327 - val_accuracy: 0.4525\n",
      "Epoch 14/200\n",
      "31/31 [==============================] - 0s 9ms/step - loss: 1.4557 - accuracy: 0.4561 - val_loss: 1.3998 - val_accuracy: 0.5010\n",
      "Epoch 15/200\n",
      "31/31 [==============================] - 0s 8ms/step - loss: 1.4391 - accuracy: 0.4644 - val_loss: 1.3967 - val_accuracy: 0.4727\n",
      "Epoch 16/200\n",
      "31/31 [==============================] - 0s 9ms/step - loss: 1.4231 - accuracy: 0.4697 - val_loss: 1.4714 - val_accuracy: 0.4101\n",
      "Epoch 17/200\n",
      "31/31 [==============================] - 0s 8ms/step - loss: 1.4124 - accuracy: 0.4700 - val_loss: 1.3593 - val_accuracy: 0.4606\n",
      "Epoch 18/200\n",
      "31/31 [==============================] - 0s 9ms/step - loss: 1.3959 - accuracy: 0.4758 - val_loss: 1.3422 - val_accuracy: 0.5172\n",
      "Epoch 19/200\n",
      "31/31 [==============================] - 0s 8ms/step - loss: 1.4079 - accuracy: 0.4733 - val_loss: 1.4087 - val_accuracy: 0.4808\n",
      "Epoch 20/200\n",
      "31/31 [==============================] - 0s 9ms/step - loss: 1.3791 - accuracy: 0.4798 - val_loss: 1.3360 - val_accuracy: 0.4909\n",
      "Epoch 21/200\n",
      "31/31 [==============================] - 0s 8ms/step - loss: 1.3771 - accuracy: 0.4806 - val_loss: 1.3840 - val_accuracy: 0.4646\n",
      "Epoch 22/200\n",
      "31/31 [==============================] - 0s 8ms/step - loss: 1.3707 - accuracy: 0.4907 - val_loss: 1.3392 - val_accuracy: 0.5051\n",
      "Epoch 23/200\n",
      "31/31 [==============================] - 0s 8ms/step - loss: 1.3446 - accuracy: 0.5066 - val_loss: 1.3373 - val_accuracy: 0.4990\n"
     ]
    },
    {
     "data": {
      "image/png": "[encoded data removed]",
      "text/plain": [
       "<Figure size 640x480 with 1 Axes>"
      ]
     },
     "metadata": {},
     "output_type": "display_data"
    },
    {
     "name": "stdout",
     "output_type": "stream",
     "text": [
      "16/16 [==============================] - 0s 2ms/step\n",
      "              precision    recall  f1-score   support\n",
      "\n",
      "           0       0.44      0.11      0.17        38\n",
      "           1       0.33      0.03      0.05        39\n",
      "           2       0.47      0.85      0.60       176\n",
      "           3       0.66      0.41      0.50        81\n",
      "           4       0.67      0.48      0.56       162\n",
      "\n",
      "    accuracy                           0.53       496\n",
      "   macro avg       0.51      0.37      0.38       496\n",
      "weighted avg       0.55      0.53      0.49       496\n",
      "\n"
     ]
    }
   ],
   "source": [
    "ann = get_ann_bert(embed_dim, meta_train.shape[1])\n",
    "\n",
    "hist = ann.fit(\n",
    "    [embed_train, meta_train], to_categorical(y_train),  \n",
    "    validation_data=([embed_val, meta_val], to_categorical(y_val)), \n",
    "    callbacks=[EarlyStopping(patience=3)],\n",
    "    epochs=200,\n",
    "    batch_size=128)\n",
    "plot_train_history(hist)\n",
    "print(classification_report(y_test, np.argmax(ann.predict([embed_test, meta_test]), axis=-1)))"
   ]
  }
 ],
 "metadata": {
  "accelerator": "GPU",
  "colab": {
   "provenance": []
  },
  "gpuClass": "standard",
  "kernelspec": {
   "display_name": "Python 3 (ipykernel)",
   "language": "python",
   "name": "python3"
  },
  "language_info": {
   "codemirror_mode": {
    "name": "ipython",
    "version": 3
   },
   "file_extension": ".py",
   "mimetype": "text/x-python",
   "name": "python",
   "nbconvert_exporter": "python",
   "pygments_lexer": "ipython3",
   "version": "3.9.12"
  }
 },
 "nbformat": 4,
 "nbformat_minor": 5
}
