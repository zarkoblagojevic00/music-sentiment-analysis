{
  "nbformat": 4,
  "nbformat_minor": 0,
  "metadata": {
    "colab": {
      "provenance": []
    },
    "kernelspec": {
      "name": "python3",
      "display_name": "Python 3"
    },
    "language_info": {
      "name": "python"
    },
    "gpuClass": "standard"
  },
  "cells": [
    {
      "cell_type": "markdown",
      "source": [
        "# Pretrained Word2Vec, GloVe - Document vectors"
      ],
      "metadata": {
        "id": "I0ZNIvrLaSnQ"
      }
    },
    {
      "cell_type": "markdown",
      "source": [
        "Since music lyrics dataset is not very large (~5k songs), and song lyrics is generally not a domain specific text, we will be using pretrained models."
      ],
      "metadata": {
        "id": "dGbdVwQwEx_h"
      }
    },
    {
      "cell_type": "code",
      "execution_count": 1,
      "metadata": {
        "id": "SbD_405ftZ_E"
      },
      "outputs": [],
      "source": [
        "import numpy as np\n",
        "import pandas as pd\n",
        "import re\n",
        "import gensim.downloader\n",
        "from gensim.models import KeyedVectors"
      ]
    },
    {
      "cell_type": "code",
      "source": [
        "print(list(gensim.downloader.info()['models'].keys()))"
      ],
      "metadata": {
        "colab": {
          "base_uri": "https://localhost:8080/"
        },
        "id": "tMEzqQfFtr16",
        "outputId": "4bf24939-9030-4aee-fdbb-85b10568fbf6"
      },
      "execution_count": 2,
      "outputs": [
        {
          "output_type": "stream",
          "name": "stdout",
          "text": [
            "['fasttext-wiki-news-subwords-300', 'conceptnet-numberbatch-17-06-300', 'word2vec-ruscorpora-300', 'word2vec-google-news-300', 'glove-wiki-gigaword-50', 'glove-wiki-gigaword-100', 'glove-wiki-gigaword-200', 'glove-wiki-gigaword-300', 'glove-twitter-25', 'glove-twitter-50', 'glove-twitter-100', 'glove-twitter-200', '__testing_word2vec-matrix-synopsis']\n"
          ]
        }
      ]
    },
    {
      "cell_type": "code",
      "source": [
        "w2v_news_model = gensim.downloader.load('word2vec-google-news-300')\n",
        "w2v_news_model.save('w2v_wv.vectors')"
      ],
      "metadata": {
        "colab": {
          "base_uri": "https://localhost:8080/"
        },
        "id": "P8K37Nj1t3kf",
        "outputId": "2c404437-e20f-4ee0-f192-f18d8a42d31d"
      },
      "execution_count": null,
      "outputs": [
        {
          "output_type": "stream",
          "name": "stdout",
          "text": [
            "[===========================-----------------------] 55.4% 921.4/1662.8MB downloaded"
          ]
        }
      ]
    },
    {
      "cell_type": "code",
      "source": [
        "w2v_news_model.most_similar('try')"
      ],
      "metadata": {
        "id": "C5LZhrzIt6j-"
      },
      "execution_count": null,
      "outputs": []
    },
    {
      "cell_type": "code",
      "source": [
        "glove_wiki_model = gensim.downloader.load('glove-wiki-gigaword-300')\n",
        "glove_wiki_model.save('glove_wv.vectors')"
      ],
      "metadata": {
        "colab": {
          "base_uri": "https://localhost:8080/"
        },
        "id": "TY48LpTat_oG",
        "outputId": "5ae5b48e-c62e-4b39-9c07-2dd2ec808619"
      },
      "execution_count": null,
      "outputs": [
        {
          "output_type": "stream",
          "name": "stdout",
          "text": [
            "[========------------------------------------------] 16.8% 63.3/376.1MB downloaded"
          ]
        }
      ]
    },
    {
      "cell_type": "code",
      "source": [
        "glove_wiki_model.most_similar('try')"
      ],
      "metadata": {
        "id": "_s--Py13djl2"
      },
      "execution_count": null,
      "outputs": []
    },
    {
      "cell_type": "code",
      "source": [
        "glove_twitter_model = gensim.downloader.load('glove-twitter-200')\n",
        "glove_twitter_model.save('glove_twitter_wv.vectors')"
      ],
      "metadata": {
        "colab": {
          "base_uri": "https://localhost:8080/"
        },
        "id": "BIUOTq-_SwmD",
        "outputId": "92915a87-134c-4c70-975b-6403175dfc35"
      },
      "execution_count": null,
      "outputs": [
        {
          "output_type": "stream",
          "name": "stdout",
          "text": [
            "[====================================--------------] 72.6% 550.8/758.5MB downloaded"
          ]
        }
      ]
    },
    {
      "cell_type": "code",
      "source": [
        "w2v_wv = KeyedVectors.load('w2v_wv.vectors')"
      ],
      "metadata": {
        "id": "vWq-JEfffBBm"
      },
      "execution_count": null,
      "outputs": []
    },
    {
      "cell_type": "code",
      "source": [
        "glove_wv = KeyedVectors.load('glove_wv.vectors')"
      ],
      "metadata": {
        "id": "mU7vMQoxf9aT"
      },
      "execution_count": null,
      "outputs": []
    },
    {
      "cell_type": "code",
      "source": [
        "twitter_wv = KeyedVectors.load('glove_twitter_wv.vectors')"
      ],
      "metadata": {
        "id": "EZGYGM3pTKad"
      },
      "execution_count": null,
      "outputs": []
    },
    {
      "cell_type": "code",
      "source": [
        "twitter_wv['cover']"
      ],
      "metadata": {
        "colab": {
          "base_uri": "https://localhost:8080/"
        },
        "id": "lzMiXzmmgDLF",
        "outputId": "da9e44a3-d56d-46b7-971b-fd7874314876"
      },
      "execution_count": 16,
      "outputs": [
        {
          "output_type": "execute_result",
          "data": {
            "text/plain": [
              "array([-9.0110e-01,  6.7654e-02, -1.7844e-01, -3.0759e-02,  3.4019e-01,\n",
              "       -1.4142e-01,  4.7423e-01, -4.8548e-01,  4.3065e-01, -1.3109e-01,\n",
              "       -3.3585e-01, -2.7486e-03, -5.6753e-01, -5.7471e-01,  3.3655e-01,\n",
              "       -3.4100e-01,  6.4352e-01, -3.5425e-01,  2.5474e-01,  1.6506e-01,\n",
              "       -3.3035e-01, -1.9022e-01,  4.7724e-01,  3.5875e-01, -7.8454e-02,\n",
              "       -1.5209e-01,  1.8321e-01,  6.4695e-01,  1.0719e-01, -6.1577e-01,\n",
              "        9.2943e-01,  1.1258e-01, -1.2998e-01, -1.4972e-01,  1.3988e-01,\n",
              "       -8.1164e-01,  6.4217e-01, -4.3808e-01, -1.2254e-01,  1.7814e-01,\n",
              "       -5.5728e-02, -5.5712e-01, -1.3302e-01,  1.6337e-01, -2.3227e-01,\n",
              "       -1.2997e-01, -1.8018e-01,  3.2479e-02, -5.6179e-01, -5.6761e-01,\n",
              "        1.2848e-01,  4.1932e-01, -4.8579e-01,  6.2612e-01,  1.6807e-01,\n",
              "       -2.6855e-01, -1.4158e-01, -1.6578e-01,  4.5544e-01,  1.1801e-01,\n",
              "        3.2150e-01, -3.2492e-01, -1.4357e-01, -1.8942e-01,  2.1420e-01,\n",
              "        1.8384e-01, -1.1262e-01, -1.3392e-01,  5.8480e-01, -5.1549e-01,\n",
              "       -2.4537e-01, -2.4290e-01, -2.5811e-01,  1.5642e-01, -1.5424e-01,\n",
              "        5.3703e-02, -1.2708e-01,  4.5534e-02,  7.3853e-02, -3.8417e-01,\n",
              "        4.6702e-01,  2.8391e-02,  1.8201e-02, -2.7033e-01, -3.3676e-01,\n",
              "       -4.6293e-01,  4.8795e-01,  3.6428e-01,  9.8428e-03,  2.2626e-01,\n",
              "       -3.1926e-01,  1.9292e-01, -2.1762e-01, -9.5082e-01,  1.3320e-01,\n",
              "       -2.8414e-02,  2.0258e-01, -2.6733e-01, -7.7373e-01,  2.4173e-01,\n",
              "       -4.5907e-01,  4.8193e-01,  4.2639e-01, -1.4027e-01, -5.0162e-01,\n",
              "        1.2907e-01,  2.0546e-01, -2.7622e-01,  1.0550e-01, -2.6883e-01,\n",
              "       -1.6631e-01,  1.0090e+00, -5.1879e-03,  2.1680e-01, -8.7879e-02,\n",
              "        1.3948e-01,  6.5715e-02,  6.6090e-02, -3.0951e-01,  2.7187e-01,\n",
              "       -1.2224e-01,  3.5507e-01,  9.7229e-02,  3.1091e-02,  3.0147e-01,\n",
              "        3.5340e-01, -6.0555e-02, -1.1507e-02, -2.8385e-01,  6.5106e-01,\n",
              "        2.3883e-01,  3.2358e-01,  3.5327e-02, -1.9566e-01,  2.4542e-01,\n",
              "        2.6922e-01,  5.9020e-01,  9.7873e-02,  9.4412e-02,  6.3454e-02,\n",
              "       -1.0372e-01, -6.5958e-02, -2.7337e-01,  4.5333e-01, -9.2164e-02,\n",
              "       -4.4467e-01, -2.7314e-01, -2.8724e-01,  3.3071e-01, -1.7073e-01,\n",
              "       -3.8602e-01, -5.0012e-01, -4.1688e+00, -6.7922e-01, -2.4040e-01,\n",
              "        4.1925e-01, -7.0926e-01,  1.8350e-01,  7.8668e-02,  7.7449e-02,\n",
              "        3.6014e-01,  1.3206e-01, -5.3583e-04, -9.3362e-02,  3.0948e-01,\n",
              "        1.7738e-01,  7.9985e-01, -2.4690e-01, -5.0914e-01,  1.9870e-01,\n",
              "        1.1744e+00,  2.2850e-01,  5.4314e-01, -2.0984e-01,  9.4428e-02,\n",
              "        4.8441e-01, -1.4404e-01,  1.3759e-01,  3.6751e-01, -3.5649e-02,\n",
              "        9.1756e-02, -3.1743e-01, -1.6637e-01,  4.5332e-01, -1.8391e-01,\n",
              "        3.1664e-02, -3.0865e-01, -1.4372e-01,  6.9920e-01, -1.5947e-01,\n",
              "        3.6963e-01,  2.4800e-01, -1.8198e-01,  3.8927e-01, -3.2986e-01,\n",
              "       -2.9990e-01, -7.1956e-01,  3.3449e-01, -1.8644e-01, -5.4543e-01],\n",
              "      dtype=float32)"
            ]
          },
          "metadata": {},
          "execution_count": 16
        }
      ]
    },
    {
      "cell_type": "markdown",
      "source": [
        "## Prepare music lyrics"
      ],
      "metadata": {
        "id": "i0a3RnCvj1F-"
      }
    },
    {
      "cell_type": "code",
      "source": [
        "df = pd.read_csv(\"music_dataset_final_hopefully.csv\", index_col=[0])"
      ],
      "metadata": {
        "id": "ADL_wlv7gHac"
      },
      "execution_count": 21,
      "outputs": []
    },
    {
      "cell_type": "code",
      "source": [
        "df.head()"
      ],
      "metadata": {
        "colab": {
          "base_uri": "https://localhost:8080/",
          "height": 507
        },
        "id": "7X-CJmoJlK3I",
        "outputId": "10084b22-40e8-410b-af1e-d6d994b7f84c"
      },
      "execution_count": 22,
      "outputs": [
        {
          "output_type": "execute_result",
          "data": {
            "text/plain": [
              "              track         artist  number_of_emotion_tags  valence_tags  \\\n",
              "0  'Till I Collapse         Eminem                       6      4.550000   \n",
              "1         St. Anger      Metallica                       8      3.710000   \n",
              "2        Die MF Die           Dope                       7      3.771176   \n",
              "3           Step Up  Drowning Pool                       9      2.971389   \n",
              "4          Feedback     Kanye West                       1      3.080000   \n",
              "\n",
              "   arousal_tags  dominance_tags              spotify_id     seeds_array  \\\n",
              "0      5.273125        5.690625  4xkOaSrkexMciUUogZKVTS  ['aggressive']   \n",
              "1      5.833000        5.427250  3fOc9x06lKJBhz435mInlH  ['aggressive']   \n",
              "2      5.348235        5.441765  5bU4KX47KqtDKKaLM4QCzh  ['aggressive']   \n",
              "3      5.537500        4.726389  4Q1w4Ryyi8KNxxaFlOQClK  ['aggressive']   \n",
              "4      5.870000        5.490000  49fT6owWuknekShh9utsjv  ['aggressive']   \n",
              "\n",
              "     artist_name        track_name  ...  Country  Opera  Movie  \\\n",
              "0         Eminem  'Till I Collapse  ...        0      0      0   \n",
              "1      Metallica         St. Anger  ...        0      0      0   \n",
              "2           Dope        Die MF Die  ...        0      0      0   \n",
              "3  Drowning Pool           Step Up  ...        0      0      0   \n",
              "4     Kanye West          Feedback  ...        0      0      0   \n",
              "\n",
              "   Children's Music  A Capella  \\\n",
              "0                 0          0   \n",
              "1                 0          0   \n",
              "2                 0          0   \n",
              "3                 0          0   \n",
              "4                 0          0   \n",
              "\n",
              "                                              lyrics             artist_track  \\\n",
              "0  [Intro: Eminem]\\n'Cause sometimes you just fee...  Eminem 'Till I Collapse   \n",
              "1  [Verse]\\nSaint Anger 'round my neck\\nSaint Ang...      Metallica St. Anger   \n",
              "2  [Intro]\\nDie!\\n[Verse 1]\\nI don't need your fo...          Dope Die MF Die   \n",
              "3  [Intro]\\nOne, two, three, go!\\n[Verse 1]\\nBrok...    Drowning Pool Step Up   \n",
              "4  [Chorus]\\nAyy, ya heard about the good news?\\n...      Kanye West Feedback   \n",
              "\n",
              "                                         genius_url  \\\n",
              "0  https://genius.com/Eminem-till-i-collapse-lyrics   \n",
              "1      https://genius.com/Metallica-st-anger-lyrics   \n",
              "2         https://genius.com/Dope-die-mf-die-lyrics   \n",
              "3   https://genius.com/Drowning-pool-step-up-lyrics   \n",
              "4     https://genius.com/Kanye-west-feedback-lyrics   \n",
              "\n",
              "                                          new_lyrics           sentiment  \n",
              "0  [Intro: Eminem]\\n'Cause sometimes you just fee...  intense_aggressive  \n",
              "1  [Verse]\\nSaint Anger 'round my neck\\nSaint Ang...  intense_aggressive  \n",
              "2  [Intro]\\nDie!\\n[Verse 1]\\nI don't need your fo...  intense_aggressive  \n",
              "3  [Intro]\\nOne, two, three, go!\\n[Verse 1]\\nBrok...  intense_aggressive  \n",
              "4  [Chorus]\\nAyy, ya heard about the good news?\\n...  intense_aggressive  \n",
              "\n",
              "[5 rows x 57 columns]"
            ],
            "text/html": [
              "\n",
              "  <div id=\"df-8e65b933-aae3-4432-b1e9-d45ef76970c3\">\n",
              "    <div class=\"colab-df-container\">\n",
              "      <div>\n",
              "<style scoped>\n",
              "    .dataframe tbody tr th:only-of-type {\n",
              "        vertical-align: middle;\n",
              "    }\n",
              "\n",
              "    .dataframe tbody tr th {\n",
              "        vertical-align: top;\n",
              "    }\n",
              "\n",
              "    .dataframe thead th {\n",
              "        text-align: right;\n",
              "    }\n",
              "</style>\n",
              "<table border=\"1\" class=\"dataframe\">\n",
              "  <thead>\n",
              "    <tr style=\"text-align: right;\">\n",
              "      <th></th>\n",
              "      <th>track</th>\n",
              "      <th>artist</th>\n",
              "      <th>number_of_emotion_tags</th>\n",
              "      <th>valence_tags</th>\n",
              "      <th>arousal_tags</th>\n",
              "      <th>dominance_tags</th>\n",
              "      <th>spotify_id</th>\n",
              "      <th>seeds_array</th>\n",
              "      <th>artist_name</th>\n",
              "      <th>track_name</th>\n",
              "      <th>...</th>\n",
              "      <th>Country</th>\n",
              "      <th>Opera</th>\n",
              "      <th>Movie</th>\n",
              "      <th>Children's Music</th>\n",
              "      <th>A Capella</th>\n",
              "      <th>lyrics</th>\n",
              "      <th>artist_track</th>\n",
              "      <th>genius_url</th>\n",
              "      <th>new_lyrics</th>\n",
              "      <th>sentiment</th>\n",
              "    </tr>\n",
              "  </thead>\n",
              "  <tbody>\n",
              "    <tr>\n",
              "      <th>0</th>\n",
              "      <td>'Till I Collapse</td>\n",
              "      <td>Eminem</td>\n",
              "      <td>6</td>\n",
              "      <td>4.550000</td>\n",
              "      <td>5.273125</td>\n",
              "      <td>5.690625</td>\n",
              "      <td>4xkOaSrkexMciUUogZKVTS</td>\n",
              "      <td>['aggressive']</td>\n",
              "      <td>Eminem</td>\n",
              "      <td>'Till I Collapse</td>\n",
              "      <td>...</td>\n",
              "      <td>0</td>\n",
              "      <td>0</td>\n",
              "      <td>0</td>\n",
              "      <td>0</td>\n",
              "      <td>0</td>\n",
              "      <td>[Intro: Eminem]\\n'Cause sometimes you just fee...</td>\n",
              "      <td>Eminem 'Till I Collapse</td>\n",
              "      <td>https://genius.com/Eminem-till-i-collapse-lyrics</td>\n",
              "      <td>[Intro: Eminem]\\n'Cause sometimes you just fee...</td>\n",
              "      <td>intense_aggressive</td>\n",
              "    </tr>\n",
              "    <tr>\n",
              "      <th>1</th>\n",
              "      <td>St. Anger</td>\n",
              "      <td>Metallica</td>\n",
              "      <td>8</td>\n",
              "      <td>3.710000</td>\n",
              "      <td>5.833000</td>\n",
              "      <td>5.427250</td>\n",
              "      <td>3fOc9x06lKJBhz435mInlH</td>\n",
              "      <td>['aggressive']</td>\n",
              "      <td>Metallica</td>\n",
              "      <td>St. Anger</td>\n",
              "      <td>...</td>\n",
              "      <td>0</td>\n",
              "      <td>0</td>\n",
              "      <td>0</td>\n",
              "      <td>0</td>\n",
              "      <td>0</td>\n",
              "      <td>[Verse]\\nSaint Anger 'round my neck\\nSaint Ang...</td>\n",
              "      <td>Metallica St. Anger</td>\n",
              "      <td>https://genius.com/Metallica-st-anger-lyrics</td>\n",
              "      <td>[Verse]\\nSaint Anger 'round my neck\\nSaint Ang...</td>\n",
              "      <td>intense_aggressive</td>\n",
              "    </tr>\n",
              "    <tr>\n",
              "      <th>2</th>\n",
              "      <td>Die MF Die</td>\n",
              "      <td>Dope</td>\n",
              "      <td>7</td>\n",
              "      <td>3.771176</td>\n",
              "      <td>5.348235</td>\n",
              "      <td>5.441765</td>\n",
              "      <td>5bU4KX47KqtDKKaLM4QCzh</td>\n",
              "      <td>['aggressive']</td>\n",
              "      <td>Dope</td>\n",
              "      <td>Die MF Die</td>\n",
              "      <td>...</td>\n",
              "      <td>0</td>\n",
              "      <td>0</td>\n",
              "      <td>0</td>\n",
              "      <td>0</td>\n",
              "      <td>0</td>\n",
              "      <td>[Intro]\\nDie!\\n[Verse 1]\\nI don't need your fo...</td>\n",
              "      <td>Dope Die MF Die</td>\n",
              "      <td>https://genius.com/Dope-die-mf-die-lyrics</td>\n",
              "      <td>[Intro]\\nDie!\\n[Verse 1]\\nI don't need your fo...</td>\n",
              "      <td>intense_aggressive</td>\n",
              "    </tr>\n",
              "    <tr>\n",
              "      <th>3</th>\n",
              "      <td>Step Up</td>\n",
              "      <td>Drowning Pool</td>\n",
              "      <td>9</td>\n",
              "      <td>2.971389</td>\n",
              "      <td>5.537500</td>\n",
              "      <td>4.726389</td>\n",
              "      <td>4Q1w4Ryyi8KNxxaFlOQClK</td>\n",
              "      <td>['aggressive']</td>\n",
              "      <td>Drowning Pool</td>\n",
              "      <td>Step Up</td>\n",
              "      <td>...</td>\n",
              "      <td>0</td>\n",
              "      <td>0</td>\n",
              "      <td>0</td>\n",
              "      <td>0</td>\n",
              "      <td>0</td>\n",
              "      <td>[Intro]\\nOne, two, three, go!\\n[Verse 1]\\nBrok...</td>\n",
              "      <td>Drowning Pool Step Up</td>\n",
              "      <td>https://genius.com/Drowning-pool-step-up-lyrics</td>\n",
              "      <td>[Intro]\\nOne, two, three, go!\\n[Verse 1]\\nBrok...</td>\n",
              "      <td>intense_aggressive</td>\n",
              "    </tr>\n",
              "    <tr>\n",
              "      <th>4</th>\n",
              "      <td>Feedback</td>\n",
              "      <td>Kanye West</td>\n",
              "      <td>1</td>\n",
              "      <td>3.080000</td>\n",
              "      <td>5.870000</td>\n",
              "      <td>5.490000</td>\n",
              "      <td>49fT6owWuknekShh9utsjv</td>\n",
              "      <td>['aggressive']</td>\n",
              "      <td>Kanye West</td>\n",
              "      <td>Feedback</td>\n",
              "      <td>...</td>\n",
              "      <td>0</td>\n",
              "      <td>0</td>\n",
              "      <td>0</td>\n",
              "      <td>0</td>\n",
              "      <td>0</td>\n",
              "      <td>[Chorus]\\nAyy, ya heard about the good news?\\n...</td>\n",
              "      <td>Kanye West Feedback</td>\n",
              "      <td>https://genius.com/Kanye-west-feedback-lyrics</td>\n",
              "      <td>[Chorus]\\nAyy, ya heard about the good news?\\n...</td>\n",
              "      <td>intense_aggressive</td>\n",
              "    </tr>\n",
              "  </tbody>\n",
              "</table>\n",
              "<p>5 rows × 57 columns</p>\n",
              "</div>\n",
              "      <button class=\"colab-df-convert\" onclick=\"convertToInteractive('df-8e65b933-aae3-4432-b1e9-d45ef76970c3')\"\n",
              "              title=\"Convert this dataframe to an interactive table.\"\n",
              "              style=\"display:none;\">\n",
              "        \n",
              "  <svg xmlns=\"http://www.w3.org/2000/svg\" height=\"24px\"viewBox=\"0 0 24 24\"\n",
              "       width=\"24px\">\n",
              "    <path d=\"M0 0h24v24H0V0z\" fill=\"none\"/>\n",
              "    <path d=\"M18.56 5.44l.94 2.06.94-2.06 2.06-.94-2.06-.94-.94-2.06-.94 2.06-2.06.94zm-11 1L8.5 8.5l.94-2.06 2.06-.94-2.06-.94L8.5 2.5l-.94 2.06-2.06.94zm10 10l.94 2.06.94-2.06 2.06-.94-2.06-.94-.94-2.06-.94 2.06-2.06.94z\"/><path d=\"M17.41 7.96l-1.37-1.37c-.4-.4-.92-.59-1.43-.59-.52 0-1.04.2-1.43.59L10.3 9.45l-7.72 7.72c-.78.78-.78 2.05 0 2.83L4 21.41c.39.39.9.59 1.41.59.51 0 1.02-.2 1.41-.59l7.78-7.78 2.81-2.81c.8-.78.8-2.07 0-2.86zM5.41 20L4 18.59l7.72-7.72 1.47 1.35L5.41 20z\"/>\n",
              "  </svg>\n",
              "      </button>\n",
              "      \n",
              "  <style>\n",
              "    .colab-df-container {\n",
              "      display:flex;\n",
              "      flex-wrap:wrap;\n",
              "      gap: 12px;\n",
              "    }\n",
              "\n",
              "    .colab-df-convert {\n",
              "      background-color: #E8F0FE;\n",
              "      border: none;\n",
              "      border-radius: 50%;\n",
              "      cursor: pointer;\n",
              "      display: none;\n",
              "      fill: #1967D2;\n",
              "      height: 32px;\n",
              "      padding: 0 0 0 0;\n",
              "      width: 32px;\n",
              "    }\n",
              "\n",
              "    .colab-df-convert:hover {\n",
              "      background-color: #E2EBFA;\n",
              "      box-shadow: 0px 1px 2px rgba(60, 64, 67, 0.3), 0px 1px 3px 1px rgba(60, 64, 67, 0.15);\n",
              "      fill: #174EA6;\n",
              "    }\n",
              "\n",
              "    [theme=dark] .colab-df-convert {\n",
              "      background-color: #3B4455;\n",
              "      fill: #D2E3FC;\n",
              "    }\n",
              "\n",
              "    [theme=dark] .colab-df-convert:hover {\n",
              "      background-color: #434B5C;\n",
              "      box-shadow: 0px 1px 3px 1px rgba(0, 0, 0, 0.15);\n",
              "      filter: drop-shadow(0px 1px 2px rgba(0, 0, 0, 0.3));\n",
              "      fill: #FFFFFF;\n",
              "    }\n",
              "  </style>\n",
              "\n",
              "      <script>\n",
              "        const buttonEl =\n",
              "          document.querySelector('#df-8e65b933-aae3-4432-b1e9-d45ef76970c3 button.colab-df-convert');\n",
              "        buttonEl.style.display =\n",
              "          google.colab.kernel.accessAllowed ? 'block' : 'none';\n",
              "\n",
              "        async function convertToInteractive(key) {\n",
              "          const element = document.querySelector('#df-8e65b933-aae3-4432-b1e9-d45ef76970c3');\n",
              "          const dataTable =\n",
              "            await google.colab.kernel.invokeFunction('convertToInteractive',\n",
              "                                                     [key], {});\n",
              "          if (!dataTable) return;\n",
              "\n",
              "          const docLinkHtml = 'Like what you see? Visit the ' +\n",
              "            '<a target=\"_blank\" href=https://colab.research.google.com/notebooks/data_table.ipynb>data table notebook</a>'\n",
              "            + ' to learn more about interactive tables.';\n",
              "          element.innerHTML = '';\n",
              "          dataTable['output_type'] = 'display_data';\n",
              "          await google.colab.output.renderOutput(dataTable, element);\n",
              "          const docLink = document.createElement('div');\n",
              "          docLink.innerHTML = docLinkHtml;\n",
              "          element.appendChild(docLink);\n",
              "        }\n",
              "      </script>\n",
              "    </div>\n",
              "  </div>\n",
              "  "
            ]
          },
          "metadata": {},
          "execution_count": 22
        }
      ]
    },
    {
      "cell_type": "code",
      "source": [
        "a = '[Intro: Eminem] Cause y  sometim like  y  you wanna  right, left [Verse 1: Eminem] Til I coin em and hock venom Adrenaline'\n",
        "a = re.sub(\"\\[[^\\]]+\\]\", \" \", a)\n",
        "b = a.split(\" \")\n",
        "b = list(filter(lambda x: x != '', b))"
      ],
      "metadata": {
        "id": "2cl9T_Xtt9yC"
      },
      "execution_count": 23,
      "outputs": []
    },
    {
      "cell_type": "code",
      "source": [
        "df['processed_lyrics'] = df['artist_name'] + ' ' + df['track_name'] + ' ' + df['lyrics']\n",
        "df['processed_lyrics'] = df['processed_lyrics'].apply(lambda x: re.sub(\"\\[[^\\]]+\\]\", '', x).lower())\n",
        "df['processed_lyrics'] = df['processed_lyrics'].str.replace(\"\\n\", ' ').str.replace(\"\\r\", ' ').replace(\"(\", ' ').replace(\")\", ' ').replace(\"(\", ' ').replace(\",\", ' ').replace(\"!\", ' ').replace(\"?\", ' ').str.split(\" \")\n",
        "\n",
        "#df['processed_lyrics'] = list(filter(lambda x: x != '', df['processed_lyrics']))"
      ],
      "metadata": {
        "id": "ASW0sHE6mE_f"
      },
      "execution_count": 24,
      "outputs": []
    },
    {
      "cell_type": "code",
      "source": [
        "import nltk\n",
        "nltk.download('stopwords')\n",
        "from nltk.corpus import stopwords\n",
        "\n",
        "stops = set(stopwords.words('english'))\n",
        "\n",
        "def transform_lyrics(row):\n",
        "    base_lyrics = row['new_lyrics']\n",
        "    artist_name = row['artist']\n",
        "    track_title = row['track']\n",
        "    \n",
        "    lyrics = base_lyrics.replace(\"\\r\", \" \")\n",
        "    \n",
        "    lyrics = re.sub(r\"\\[([^\\]]+)\\]\", \"\", lyrics)\n",
        "    \n",
        "    lines = lyrics.split('\\n')\n",
        "    lines = list(dict.fromkeys(lines)) # cannot use set for unique verses cause it doesn't keep order\n",
        "\n",
        "    lines = [line for line in lines if line is not None and line != '' and line != ' ']\n",
        "    lyrics = ' '.join(lines)\n",
        "    \n",
        "    lyrics = track_title + \"  \" + artist_name + \" \" + lyrics \n",
        "    lyrics = lyrics.lower()\n",
        "\n",
        "    # Clean the lyrics\n",
        "    lyrics = re.sub(r\"[^A-Za-z0-9^,!.\\/'+-=]\", \" \", lyrics)\n",
        "    lyrics = re.sub(r\"what's\", \"what is \", lyrics)\n",
        "    lyrics = re.sub(r\"\\'s\", \" \", lyrics)\n",
        "    lyrics = re.sub(r\"\\'ve\", \" have \", lyrics)\n",
        "    lyrics = re.sub(r\"can't\", \"cannot \", lyrics)\n",
        "    lyrics = re.sub(r\"n't\", \" not \", lyrics)\n",
        "    lyrics = re.sub(r\"ain't\", \"am not \", lyrics)\n",
        "    lyrics = re.sub(r\"i'm\", \"i am \", lyrics)\n",
        "    lyrics = re.sub(r\"\\'re\", \" are \", lyrics)\n",
        "    lyrics = re.sub(r\"\\'d\", \" would \", lyrics)\n",
        "    lyrics = re.sub(r\"\\'ll\", \" will \", lyrics)\n",
        "    lyrics = re.sub(r\",\", \" \", lyrics)\n",
        "    lyrics = re.sub(r\"\\.\", \" \", lyrics)\n",
        "    lyrics = re.sub(r\"!\", \" ! \", lyrics)\n",
        "    lyrics = re.sub(r\"\\/\", \" \", lyrics)\n",
        "    lyrics = re.sub(r\"\\^\", \" ^ \", lyrics)\n",
        "    lyrics = re.sub(r\"\\+\", \" + \", lyrics)\n",
        "    lyrics = re.sub(r\"\\-\", \" - \", lyrics)\n",
        "    lyrics = re.sub(r\"\\=\", \" = \", lyrics)\n",
        "    lyrics = re.sub(r\"'\", \" \", lyrics)\n",
        "    lyrics = re.sub(r\"(\\d+)(k)\", r\"\\g<1>000\", lyrics)\n",
        "    lyrics = re.sub(r\":\", \" : \", lyrics)\n",
        "    lyrics = re.sub(r\" e g \", \" eg \", lyrics)\n",
        "    lyrics = re.sub(r\" b g \", \" bg \", lyrics)\n",
        "    lyrics = re.sub(r\" u s \", \" american \", lyrics)\n",
        "    lyrics = re.sub(r\"\\0s\", \"0\", lyrics)\n",
        "    lyrics = re.sub(r\" 9 11 \", \"911\", lyrics)\n",
        "    lyrics = re.sub(r\"e - mail\", \"email\", lyrics)\n",
        "    lyrics = re.sub(r\"j k\", \"jk\", lyrics)\n",
        "    lyrics = re.sub(r\"'s\", \"\", lyrics)\n",
        "    lyrics = re.sub(r\"[\\(\\)]\", \"\", lyrics)\n",
        "    lyrics = re.sub(r\"\\s{2,}\", \" \", lyrics)\n",
        "    \n",
        "    lyrics = ' '.join([word for word in lyrics.split() if word not in stops])\n",
        "      \n",
        "    return lyrics\n",
        "\n",
        "df['processed_lyrics'] = df.apply(transform_lyrics, axis=1)\n",
        "df['processed_lyrics'] = df['processed_lyrics'].str.split(\" \")\n"
      ],
      "metadata": {
        "colab": {
          "base_uri": "https://localhost:8080/"
        },
        "id": "Bqz9NA0dQR1l",
        "outputId": "6e78c5a7-8c62-4a5f-cab7-af5659b03ccf"
      },
      "execution_count": 25,
      "outputs": [
        {
          "output_type": "stream",
          "name": "stderr",
          "text": [
            "[nltk_data] Downloading package stopwords to /root/nltk_data...\n",
            "[nltk_data]   Unzipping corpora/stopwords.zip.\n"
          ]
        }
      ]
    },
    {
      "cell_type": "code",
      "source": [
        "len(df['processed_lyrics'].iloc[3652])"
      ],
      "metadata": {
        "colab": {
          "base_uri": "https://localhost:8080/"
        },
        "id": "UwMjsEustydy",
        "outputId": "0c0acdd7-ab45-4002-e93f-f0dcb1abe261"
      },
      "execution_count": 26,
      "outputs": [
        {
          "output_type": "execute_result",
          "data": {
            "text/plain": [
              "150"
            ]
          },
          "metadata": {},
          "execution_count": 26
        }
      ]
    },
    {
      "cell_type": "markdown",
      "source": [
        "## Word Vectors"
      ],
      "metadata": {
        "id": "TVEm-kAtTWrw"
      }
    },
    {
      "cell_type": "code",
      "source": [
        "def get_document_vector(row, gl = 0):\n",
        "  doc_vec = []\n",
        "  doc_vec = np.zeros(300, dtype=float)\n",
        "\n",
        "  for word in row['processed_lyrics']:\n",
        "    if word != \"\":\n",
        "      try:\n",
        "        if gl == 1:\n",
        "          word_vec = glove_wv[word]\n",
        "        else:\n",
        "          word_vec = w2v_wv[word]\n",
        "      except: \n",
        "        word_vec = np.zeros(300, dtype=float)\n",
        "      doc_vec += word_vec\n",
        "\n",
        "  doc_vec = doc_vec/len(row['processed_lyrics'])\n",
        "  return doc_vec\n",
        "\n",
        "def get_document_vector_twitter(row):\n",
        "  doc_vec = []\n",
        "  doc_vec = np.zeros(200, dtype=float)\n",
        "\n",
        "  for word in row['processed_lyrics']:\n",
        "    if word != \"\":\n",
        "      try:\n",
        "        word_vec = twitter_wv[word]\n",
        "      except: \n",
        "        word_vec = np.zeros(200, dtype=float)\n",
        "      doc_vec += word_vec\n",
        "\n",
        "  doc_vec = doc_vec/len(row['processed_lyrics'])\n",
        "  return doc_vec"
      ],
      "metadata": {
        "id": "N5KQKNl9xMZg"
      },
      "execution_count": 27,
      "outputs": []
    },
    {
      "cell_type": "code",
      "source": [
        "df['lyrics_glove'] = df.apply(lambda row: get_document_vector(row, 1), axis=1)\n",
        "df['lyrics_w2v'] = df.apply(lambda row: get_document_vector(row, 0), axis=1)\n",
        "df['lyrics_glove_twitter'] = df.apply(lambda row: get_document_vector_twitter(row), axis=1)"
      ],
      "metadata": {
        "id": "LcLMuuB31XhG"
      },
      "execution_count": 28,
      "outputs": []
    },
    {
      "cell_type": "code",
      "source": [
        "df.head()"
      ],
      "metadata": {
        "colab": {
          "base_uri": "https://localhost:8080/",
          "height": 507
        },
        "id": "ZnciXcDfBrng",
        "outputId": "ef520509-496c-4ca5-dd7e-7c2168c108dc"
      },
      "execution_count": 29,
      "outputs": [
        {
          "output_type": "execute_result",
          "data": {
            "text/plain": [
              "              track         artist  number_of_emotion_tags  valence_tags  \\\n",
              "0  'Till I Collapse         Eminem                       6      4.550000   \n",
              "1         St. Anger      Metallica                       8      3.710000   \n",
              "2        Die MF Die           Dope                       7      3.771176   \n",
              "3           Step Up  Drowning Pool                       9      2.971389   \n",
              "4          Feedback     Kanye West                       1      3.080000   \n",
              "\n",
              "   arousal_tags  dominance_tags              spotify_id     seeds_array  \\\n",
              "0      5.273125        5.690625  4xkOaSrkexMciUUogZKVTS  ['aggressive']   \n",
              "1      5.833000        5.427250  3fOc9x06lKJBhz435mInlH  ['aggressive']   \n",
              "2      5.348235        5.441765  5bU4KX47KqtDKKaLM4QCzh  ['aggressive']   \n",
              "3      5.537500        4.726389  4Q1w4Ryyi8KNxxaFlOQClK  ['aggressive']   \n",
              "4      5.870000        5.490000  49fT6owWuknekShh9utsjv  ['aggressive']   \n",
              "\n",
              "     artist_name        track_name  ...  A Capella  \\\n",
              "0         Eminem  'Till I Collapse  ...          0   \n",
              "1      Metallica         St. Anger  ...          0   \n",
              "2           Dope        Die MF Die  ...          0   \n",
              "3  Drowning Pool           Step Up  ...          0   \n",
              "4     Kanye West          Feedback  ...          0   \n",
              "\n",
              "                                              lyrics             artist_track  \\\n",
              "0  [Intro: Eminem]\\n'Cause sometimes you just fee...  Eminem 'Till I Collapse   \n",
              "1  [Verse]\\nSaint Anger 'round my neck\\nSaint Ang...      Metallica St. Anger   \n",
              "2  [Intro]\\nDie!\\n[Verse 1]\\nI don't need your fo...          Dope Die MF Die   \n",
              "3  [Intro]\\nOne, two, three, go!\\n[Verse 1]\\nBrok...    Drowning Pool Step Up   \n",
              "4  [Chorus]\\nAyy, ya heard about the good news?\\n...      Kanye West Feedback   \n",
              "\n",
              "                                         genius_url  \\\n",
              "0  https://genius.com/Eminem-till-i-collapse-lyrics   \n",
              "1      https://genius.com/Metallica-st-anger-lyrics   \n",
              "2         https://genius.com/Dope-die-mf-die-lyrics   \n",
              "3   https://genius.com/Drowning-pool-step-up-lyrics   \n",
              "4     https://genius.com/Kanye-west-feedback-lyrics   \n",
              "\n",
              "                                          new_lyrics           sentiment  \\\n",
              "0  [Intro: Eminem]\\n'Cause sometimes you just fee...  intense_aggressive   \n",
              "1  [Verse]\\nSaint Anger 'round my neck\\nSaint Ang...  intense_aggressive   \n",
              "2  [Intro]\\nDie!\\n[Verse 1]\\nI don't need your fo...  intense_aggressive   \n",
              "3  [Intro]\\nOne, two, three, go!\\n[Verse 1]\\nBrok...  intense_aggressive   \n",
              "4  [Chorus]\\nAyy, ya heard about the good news?\\n...  intense_aggressive   \n",
              "\n",
              "                                    processed_lyrics  \\\n",
              "0  [till, collapse, eminem, cause, sometimes, fee...   \n",
              "1  [st, anger, metallica, saint, anger, round, ne...   \n",
              "2  [die, mf, die, dope, die, !, need, forgiveness...   \n",
              "3  [step, drowning, pool, one, two, three, go, !,...   \n",
              "4  [feedback, kanye, west, ayy, ya, heard, good, ...   \n",
              "\n",
              "                                        lyrics_glove  \\\n",
              "0  [0.007035506120882928, 0.007414329536550213, -...   \n",
              "1  [-0.018360453107478945, -0.09990968379530717, ...   \n",
              "2  [-0.061807930793451225, -0.11636447740475768, ...   \n",
              "3  [0.04024819198499929, 0.06810907959067203, -0....   \n",
              "4  [-0.02204457062095055, 0.016007030318758032, -...   \n",
              "\n",
              "                                          lyrics_w2v  \\\n",
              "0  [0.05652761459350586, 0.022828451792399087, 0....   \n",
              "1  [0.09270500414299243, 0.03882668235085227, 0.0...   \n",
              "2  [0.06827423537986865, 0.030379585597826088, 0....   \n",
              "3  [0.01848656790597098, 0.020073828759131492, 0....   \n",
              "4  [0.036414252387152776, 0.02762536835252193, 0....   \n",
              "\n",
              "                                lyrics_glove_twitter  \n",
              "0  [-0.05907789172510497, 0.11155135691709196, 0....  \n",
              "1  [0.09798608987203448, 0.2460496624275534, 0.00...  \n",
              "2  [0.0657521746782721, 0.14336622042068536, -0.1...  \n",
              "3  [0.03802624201498829, -0.004990142806396856, 0...  \n",
              "4  [-0.00887784880874624, 0.16099679390681984, -0...  \n",
              "\n",
              "[5 rows x 61 columns]"
            ],
            "text/html": [
              "\n",
              "  <div id=\"df-59696251-6d9c-4f89-b067-4e090ad11d24\">\n",
              "    <div class=\"colab-df-container\">\n",
              "      <div>\n",
              "<style scoped>\n",
              "    .dataframe tbody tr th:only-of-type {\n",
              "        vertical-align: middle;\n",
              "    }\n",
              "\n",
              "    .dataframe tbody tr th {\n",
              "        vertical-align: top;\n",
              "    }\n",
              "\n",
              "    .dataframe thead th {\n",
              "        text-align: right;\n",
              "    }\n",
              "</style>\n",
              "<table border=\"1\" class=\"dataframe\">\n",
              "  <thead>\n",
              "    <tr style=\"text-align: right;\">\n",
              "      <th></th>\n",
              "      <th>track</th>\n",
              "      <th>artist</th>\n",
              "      <th>number_of_emotion_tags</th>\n",
              "      <th>valence_tags</th>\n",
              "      <th>arousal_tags</th>\n",
              "      <th>dominance_tags</th>\n",
              "      <th>spotify_id</th>\n",
              "      <th>seeds_array</th>\n",
              "      <th>artist_name</th>\n",
              "      <th>track_name</th>\n",
              "      <th>...</th>\n",
              "      <th>A Capella</th>\n",
              "      <th>lyrics</th>\n",
              "      <th>artist_track</th>\n",
              "      <th>genius_url</th>\n",
              "      <th>new_lyrics</th>\n",
              "      <th>sentiment</th>\n",
              "      <th>processed_lyrics</th>\n",
              "      <th>lyrics_glove</th>\n",
              "      <th>lyrics_w2v</th>\n",
              "      <th>lyrics_glove_twitter</th>\n",
              "    </tr>\n",
              "  </thead>\n",
              "  <tbody>\n",
              "    <tr>\n",
              "      <th>0</th>\n",
              "      <td>'Till I Collapse</td>\n",
              "      <td>Eminem</td>\n",
              "      <td>6</td>\n",
              "      <td>4.550000</td>\n",
              "      <td>5.273125</td>\n",
              "      <td>5.690625</td>\n",
              "      <td>4xkOaSrkexMciUUogZKVTS</td>\n",
              "      <td>['aggressive']</td>\n",
              "      <td>Eminem</td>\n",
              "      <td>'Till I Collapse</td>\n",
              "      <td>...</td>\n",
              "      <td>0</td>\n",
              "      <td>[Intro: Eminem]\\n'Cause sometimes you just fee...</td>\n",
              "      <td>Eminem 'Till I Collapse</td>\n",
              "      <td>https://genius.com/Eminem-till-i-collapse-lyrics</td>\n",
              "      <td>[Intro: Eminem]\\n'Cause sometimes you just fee...</td>\n",
              "      <td>intense_aggressive</td>\n",
              "      <td>[till, collapse, eminem, cause, sometimes, fee...</td>\n",
              "      <td>[0.007035506120882928, 0.007414329536550213, -...</td>\n",
              "      <td>[0.05652761459350586, 0.022828451792399087, 0....</td>\n",
              "      <td>[-0.05907789172510497, 0.11155135691709196, 0....</td>\n",
              "    </tr>\n",
              "    <tr>\n",
              "      <th>1</th>\n",
              "      <td>St. Anger</td>\n",
              "      <td>Metallica</td>\n",
              "      <td>8</td>\n",
              "      <td>3.710000</td>\n",
              "      <td>5.833000</td>\n",
              "      <td>5.427250</td>\n",
              "      <td>3fOc9x06lKJBhz435mInlH</td>\n",
              "      <td>['aggressive']</td>\n",
              "      <td>Metallica</td>\n",
              "      <td>St. Anger</td>\n",
              "      <td>...</td>\n",
              "      <td>0</td>\n",
              "      <td>[Verse]\\nSaint Anger 'round my neck\\nSaint Ang...</td>\n",
              "      <td>Metallica St. Anger</td>\n",
              "      <td>https://genius.com/Metallica-st-anger-lyrics</td>\n",
              "      <td>[Verse]\\nSaint Anger 'round my neck\\nSaint Ang...</td>\n",
              "      <td>intense_aggressive</td>\n",
              "      <td>[st, anger, metallica, saint, anger, round, ne...</td>\n",
              "      <td>[-0.018360453107478945, -0.09990968379530717, ...</td>\n",
              "      <td>[0.09270500414299243, 0.03882668235085227, 0.0...</td>\n",
              "      <td>[0.09798608987203448, 0.2460496624275534, 0.00...</td>\n",
              "    </tr>\n",
              "    <tr>\n",
              "      <th>2</th>\n",
              "      <td>Die MF Die</td>\n",
              "      <td>Dope</td>\n",
              "      <td>7</td>\n",
              "      <td>3.771176</td>\n",
              "      <td>5.348235</td>\n",
              "      <td>5.441765</td>\n",
              "      <td>5bU4KX47KqtDKKaLM4QCzh</td>\n",
              "      <td>['aggressive']</td>\n",
              "      <td>Dope</td>\n",
              "      <td>Die MF Die</td>\n",
              "      <td>...</td>\n",
              "      <td>0</td>\n",
              "      <td>[Intro]\\nDie!\\n[Verse 1]\\nI don't need your fo...</td>\n",
              "      <td>Dope Die MF Die</td>\n",
              "      <td>https://genius.com/Dope-die-mf-die-lyrics</td>\n",
              "      <td>[Intro]\\nDie!\\n[Verse 1]\\nI don't need your fo...</td>\n",
              "      <td>intense_aggressive</td>\n",
              "      <td>[die, mf, die, dope, die, !, need, forgiveness...</td>\n",
              "      <td>[-0.061807930793451225, -0.11636447740475768, ...</td>\n",
              "      <td>[0.06827423537986865, 0.030379585597826088, 0....</td>\n",
              "      <td>[0.0657521746782721, 0.14336622042068536, -0.1...</td>\n",
              "    </tr>\n",
              "    <tr>\n",
              "      <th>3</th>\n",
              "      <td>Step Up</td>\n",
              "      <td>Drowning Pool</td>\n",
              "      <td>9</td>\n",
              "      <td>2.971389</td>\n",
              "      <td>5.537500</td>\n",
              "      <td>4.726389</td>\n",
              "      <td>4Q1w4Ryyi8KNxxaFlOQClK</td>\n",
              "      <td>['aggressive']</td>\n",
              "      <td>Drowning Pool</td>\n",
              "      <td>Step Up</td>\n",
              "      <td>...</td>\n",
              "      <td>0</td>\n",
              "      <td>[Intro]\\nOne, two, three, go!\\n[Verse 1]\\nBrok...</td>\n",
              "      <td>Drowning Pool Step Up</td>\n",
              "      <td>https://genius.com/Drowning-pool-step-up-lyrics</td>\n",
              "      <td>[Intro]\\nOne, two, three, go!\\n[Verse 1]\\nBrok...</td>\n",
              "      <td>intense_aggressive</td>\n",
              "      <td>[step, drowning, pool, one, two, three, go, !,...</td>\n",
              "      <td>[0.04024819198499929, 0.06810907959067203, -0....</td>\n",
              "      <td>[0.01848656790597098, 0.020073828759131492, 0....</td>\n",
              "      <td>[0.03802624201498829, -0.004990142806396856, 0...</td>\n",
              "    </tr>\n",
              "    <tr>\n",
              "      <th>4</th>\n",
              "      <td>Feedback</td>\n",
              "      <td>Kanye West</td>\n",
              "      <td>1</td>\n",
              "      <td>3.080000</td>\n",
              "      <td>5.870000</td>\n",
              "      <td>5.490000</td>\n",
              "      <td>49fT6owWuknekShh9utsjv</td>\n",
              "      <td>['aggressive']</td>\n",
              "      <td>Kanye West</td>\n",
              "      <td>Feedback</td>\n",
              "      <td>...</td>\n",
              "      <td>0</td>\n",
              "      <td>[Chorus]\\nAyy, ya heard about the good news?\\n...</td>\n",
              "      <td>Kanye West Feedback</td>\n",
              "      <td>https://genius.com/Kanye-west-feedback-lyrics</td>\n",
              "      <td>[Chorus]\\nAyy, ya heard about the good news?\\n...</td>\n",
              "      <td>intense_aggressive</td>\n",
              "      <td>[feedback, kanye, west, ayy, ya, heard, good, ...</td>\n",
              "      <td>[-0.02204457062095055, 0.016007030318758032, -...</td>\n",
              "      <td>[0.036414252387152776, 0.02762536835252193, 0....</td>\n",
              "      <td>[-0.00887784880874624, 0.16099679390681984, -0...</td>\n",
              "    </tr>\n",
              "  </tbody>\n",
              "</table>\n",
              "<p>5 rows × 61 columns</p>\n",
              "</div>\n",
              "      <button class=\"colab-df-convert\" onclick=\"convertToInteractive('df-59696251-6d9c-4f89-b067-4e090ad11d24')\"\n",
              "              title=\"Convert this dataframe to an interactive table.\"\n",
              "              style=\"display:none;\">\n",
              "        \n",
              "  <svg xmlns=\"http://www.w3.org/2000/svg\" height=\"24px\"viewBox=\"0 0 24 24\"\n",
              "       width=\"24px\">\n",
              "    <path d=\"M0 0h24v24H0V0z\" fill=\"none\"/>\n",
              "    <path d=\"M18.56 5.44l.94 2.06.94-2.06 2.06-.94-2.06-.94-.94-2.06-.94 2.06-2.06.94zm-11 1L8.5 8.5l.94-2.06 2.06-.94-2.06-.94L8.5 2.5l-.94 2.06-2.06.94zm10 10l.94 2.06.94-2.06 2.06-.94-2.06-.94-.94-2.06-.94 2.06-2.06.94z\"/><path d=\"M17.41 7.96l-1.37-1.37c-.4-.4-.92-.59-1.43-.59-.52 0-1.04.2-1.43.59L10.3 9.45l-7.72 7.72c-.78.78-.78 2.05 0 2.83L4 21.41c.39.39.9.59 1.41.59.51 0 1.02-.2 1.41-.59l7.78-7.78 2.81-2.81c.8-.78.8-2.07 0-2.86zM5.41 20L4 18.59l7.72-7.72 1.47 1.35L5.41 20z\"/>\n",
              "  </svg>\n",
              "      </button>\n",
              "      \n",
              "  <style>\n",
              "    .colab-df-container {\n",
              "      display:flex;\n",
              "      flex-wrap:wrap;\n",
              "      gap: 12px;\n",
              "    }\n",
              "\n",
              "    .colab-df-convert {\n",
              "      background-color: #E8F0FE;\n",
              "      border: none;\n",
              "      border-radius: 50%;\n",
              "      cursor: pointer;\n",
              "      display: none;\n",
              "      fill: #1967D2;\n",
              "      height: 32px;\n",
              "      padding: 0 0 0 0;\n",
              "      width: 32px;\n",
              "    }\n",
              "\n",
              "    .colab-df-convert:hover {\n",
              "      background-color: #E2EBFA;\n",
              "      box-shadow: 0px 1px 2px rgba(60, 64, 67, 0.3), 0px 1px 3px 1px rgba(60, 64, 67, 0.15);\n",
              "      fill: #174EA6;\n",
              "    }\n",
              "\n",
              "    [theme=dark] .colab-df-convert {\n",
              "      background-color: #3B4455;\n",
              "      fill: #D2E3FC;\n",
              "    }\n",
              "\n",
              "    [theme=dark] .colab-df-convert:hover {\n",
              "      background-color: #434B5C;\n",
              "      box-shadow: 0px 1px 3px 1px rgba(0, 0, 0, 0.15);\n",
              "      filter: drop-shadow(0px 1px 2px rgba(0, 0, 0, 0.3));\n",
              "      fill: #FFFFFF;\n",
              "    }\n",
              "  </style>\n",
              "\n",
              "      <script>\n",
              "        const buttonEl =\n",
              "          document.querySelector('#df-59696251-6d9c-4f89-b067-4e090ad11d24 button.colab-df-convert');\n",
              "        buttonEl.style.display =\n",
              "          google.colab.kernel.accessAllowed ? 'block' : 'none';\n",
              "\n",
              "        async function convertToInteractive(key) {\n",
              "          const element = document.querySelector('#df-59696251-6d9c-4f89-b067-4e090ad11d24');\n",
              "          const dataTable =\n",
              "            await google.colab.kernel.invokeFunction('convertToInteractive',\n",
              "                                                     [key], {});\n",
              "          if (!dataTable) return;\n",
              "\n",
              "          const docLinkHtml = 'Like what you see? Visit the ' +\n",
              "            '<a target=\"_blank\" href=https://colab.research.google.com/notebooks/data_table.ipynb>data table notebook</a>'\n",
              "            + ' to learn more about interactive tables.';\n",
              "          element.innerHTML = '';\n",
              "          dataTable['output_type'] = 'display_data';\n",
              "          await google.colab.output.renderOutput(dataTable, element);\n",
              "          const docLink = document.createElement('div');\n",
              "          docLink.innerHTML = docLinkHtml;\n",
              "          element.appendChild(docLink);\n",
              "        }\n",
              "      </script>\n",
              "    </div>\n",
              "  </div>\n",
              "  "
            ]
          },
          "metadata": {},
          "execution_count": 29
        }
      ]
    },
    {
      "cell_type": "code",
      "source": [
        "df.to_csv('word_vector_embeddings_final.csv')"
      ],
      "metadata": {
        "id": "lnbpqOy9Bx8M"
      },
      "execution_count": 30,
      "outputs": []
    },
    {
      "cell_type": "code",
      "source": [],
      "metadata": {
        "id": "vVnWSVZsUQ7N"
      },
      "execution_count": null,
      "outputs": []
    }
  ]
}